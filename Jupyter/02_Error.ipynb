{
 "cells": [
  {
   "cell_type": "markdown",
   "metadata": {},
   "source": [
    "# Teoría del Error\n",
    "<p><code>Python en Jupyter Notebook</code></p>\n",
    "<p>Creado por <code>Giancarlo Ortiz</code> para el curso de <code>Métodos Numéricos</code></p>\n",
    "<style type=\"text/css\">\n",
    "    .formula {\n",
    "        background: #f7f7f7;\n",
    "        border-radius: 50px;\n",
    "        padding: 15px;\n",
    "    }\n",
    "    .border {\n",
    "        display: inline-block;\n",
    "        border: solid 1px rgba(204, 204, 204, 0.4);\n",
    "        border-bottom-color: rgba(187, 187, 187, 0.4);\n",
    "        border-radius: 3px;\n",
    "        box-shadow: inset 0 -1px 0 rgba(187, 187, 187, 0.4);\n",
    "        background-color: inherit !important;\n",
    "        vertical-align: middle;\n",
    "        color: inherit !important;\n",
    "        font-size: 11px;\n",
    "        padding: 3px 5px;\n",
    "        margin: 0 2px;\n",
    "    }\n",
    "</style>\n",
    "\n",
    "## Agenda\n",
    "1. Error real\n",
    "1. Error absoluto\n",
    "1. Error relativo\n",
    "1. Incertidumbre"
   ]
  },
  {
   "cell_type": "code",
   "execution_count": 1,
   "metadata": {},
   "outputs": [],
   "source": [
    "# Importando librerias del cuaderno de jupyter\n",
    "import math as m \n",
    "import numpy as np\n",
    "import pylab as plt"
   ]
  },
  {
   "source": [
    "## 1. Error real\n",
    "---\n",
    "El error real por definición es la diferencia entre el valor que se considera real y el valor aproximado, puede ser positivo si el error es por defecto, o negativo si el error es por exceso.\n",
    "\n",
    "\\begin{equation*}\n",
    "E = V_r - V_a \\\\\n",
    "\\end{equation*}\n"
   ],
   "cell_type": "markdown",
   "metadata": {}
  },
  {
   "cell_type": "code",
   "execution_count": 2,
   "metadata": {},
   "outputs": [
    {
     "output_type": "stream",
     "name": "stdout",
     "text": [
      "-------------------------------------------\nValor del modelo algebraico:   9.8179\n-------------------------------------------\n| No |  T [s]   |   g[m/s²]  | ERROR REAL |\n-------------------------------------------\n| No | V Medido | V aparente | Indididual |\n-------------------------------------------\n|  1 |    2.028 |     9.6006 |     0.2172 |\n|  2 |    2.023 |     9.6464 |     0.1715 |\n|  3 |    2.020 |     9.6740 |     0.1439 |\n|  4 |    2.010 |     9.7762 |     0.0416 |\n|  5 |    1.996 |     9.9087 |    -0.0909 |\n|  6 |    1.993 |     9.9375 |    -0.1196 |\n|  7 |    1.987 |     9.9953 |    -0.1775 |\n|  8 |    1.983 |    10.0439 |    -0.2261 |\n|  9 |    1.981 |    10.0635 |    -0.2456 |\n| 10 |    1.976 |    10.1126 |    -0.2947 |\n-------------------------------------------\nMedia aritmetica de ga:      9.8759\n-------------------------------------------\n"
     ]
    }
   ],
   "source": [
    "# Modelo gravitacional Basico\n",
    "Longitud = 1; θ = 45; deltaT = 0.30\n",
    "Tr = [2.106, 2.101, 2.098, 2.087, 2.073, 2.070, 2.064, 2.059, 2.057, 2.052]\n",
    "\n",
    "# Vaor real\n",
    "Lat = 1.209673                                                      # Latituud de (Pasto - Nariño)\n",
    "Alt = 2_539                                                         # Altitud de (Pasto - Nariño)\n",
    "R = 6_371_000                                                       # Radio medio de la tierra\n",
    "Afc = 1 + 0.0053024 * m.sin(Lat)**2 - 0.0000058 * m.sin(2*Lat)**2   # Aporte de la fuerza centrifuga\n",
    "Afg = 1 - (2/R)*Alt + (3/R**2)*Alt**2                               # Aporte de la distancia al centro\n",
    "g = 9.780327 * Afc * Afg\n",
    "\n",
    "# Pendulo Simple\n",
    "T = np.array(Tr)\n",
    "θ_rad = θ * (m.pi/180)\n",
    "To = T / (1 + (θ_rad/4)**2)\n",
    "ga = Longitud/(To/(2*m.pi))**2\n",
    "\n",
    "# Error Real\n",
    "E_ga = g - ga\n",
    "\n",
    "# Media aritmetica (Promedio)\n",
    "P = sum(ga) / len(ga)\n",
    "\n",
    "# Salida estandar\n",
    "print(f\"-------------------------------------------\")\n",
    "print(f\"Valor del modelo algebraico: {g:8.4f}\")\n",
    "print(f\"-------------------------------------------\")\n",
    "print(f\"| No |  T [s]   |   g[m/s²]  | ERROR REAL |\")\n",
    "print(f\"-------------------------------------------\")\n",
    "print(f\"| No | V Medido | V aparente | Indididual |\")\n",
    "print(f\"-------------------------------------------\")\n",
    "for N in range(len(Tr)):\n",
    "    print(f\"| {N+1:2} | {To[N]:8.3f} | {ga[N]:10.4f} | {E_ga[N]:10.4f} |\")\n",
    "\n",
    "print(f\"-------------------------------------------\")\n",
    "print(f\"Media aritmetica de ga:    {P:8.4f}\")\n",
    "print(f\"-------------------------------------------\")\n"
   ]
  },
  {
   "cell_type": "markdown",
   "metadata": {},
   "source": [
    "## 1. Error absoluto\n",
    "---\n",
    "El error absoluto por definición la diferencia entre el valor que se considera real y el valor aproximado, siempre es positivo; cuando se realizan n medidas de un mismo fenomeno se puede calcular como el promedio de los errores absolutos individuales o la raiz del error cuadratico medio.\n",
    "\n",
    "\n",
    "\\begin{align}\n",
    "e_{a} & = \\left| E \\right| = \\left| V_r-V_a \\right| \\\\\n",
    "EAM  & = \\frac{1}{n}  \\sum_{1}^n E =  \\frac{1}{n} \\sum_{1}^n \\left| V_r-V_a \\right| \\\\\n",
    "RECM & =  \\sqrt{ \\frac{1}{n} \\sum_{1}^n \\left( V_r-V_a \\right)^2 } \\\\\n",
    "\\end{align}\n"
   ]
  },
  {
   "cell_type": "code",
   "execution_count": 3,
   "metadata": {},
   "outputs": [
    {
     "output_type": "stream",
     "name": "stdout",
     "text": [
      "------------------------------------------------------------\nValor del modelo algebraico:   9.8179\n------------------------------------------------------------\n| No |  T [s]   |   g[m/s²]  | ERROR REAL | ERROR ABSOLUTO |\n------------------------------------------------------------\n| No | V Medido | V aparente | Indididual |   Indididual   |\n------------------------------------------------------------\n|  1 |    2.028 |     9.6006 |     0.2172 |         0.2172 |\n|  2 |    2.023 |     9.6464 |     0.1715 |         0.1715 |\n|  3 |    2.020 |     9.6740 |     0.1439 |         0.1439 |\n|  4 |    2.010 |     9.7762 |     0.0416 |         0.0416 |\n|  5 |    1.996 |     9.9087 |    -0.0909 |         0.0909 |\n|  6 |    1.993 |     9.9375 |    -0.1196 |         0.1196 |\n|  7 |    1.987 |     9.9953 |    -0.1775 |         0.1775 |\n|  8 |    1.983 |    10.0439 |    -0.2261 |         0.2261 |\n|  9 |    1.981 |    10.0635 |    -0.2456 |         0.2456 |\n| 10 |    1.976 |    10.1126 |    -0.2947 |         0.2947 |\n------------------------------------------------------------\nMedia aritmetica de Gravedad aparente:    9.8759\nError Absoluto Medio - EAM:               0.1729\nRaiz Error Cuadratico Medio - RECM:       0.1875\n------------------------------------------------------------\n"
     ]
    }
   ],
   "source": [
    "# Error Absoluto\n",
    "ea_ga = abs(E_ga)\n",
    "\n",
    "# Promedios\n",
    "EAM = sum(ea_ga) / len(ea_ga)\n",
    "RECM = m.sqrt((1/len(E_ga))*sum((E_ga)**2))\n",
    "\n",
    "# Salida estandar\n",
    "print(f\"------------------------------------------------------------\")\n",
    "print(f\"Valor del modelo algebraico: {g:8.4f}\")\n",
    "print(f\"------------------------------------------------------------\")\n",
    "print(f\"| No |  T [s]   |   g[m/s²]  | ERROR REAL | ERROR ABSOLUTO |\")\n",
    "print(f\"------------------------------------------------------------\")\n",
    "print(f\"| No | V Medido | V aparente | Indididual |   Indididual   |\")\n",
    "print(f\"------------------------------------------------------------\")\n",
    "for N in range(len(Tr)):\n",
    "    print(f\"| {N+1:2} | {To[N]:8.3f} | {ga[N]:10.4f} | {E_ga[N]:10.4f} | {ea_ga[N]:14.4f} |\")\n",
    "\n",
    "print(f\"------------------------------------------------------------\")\n",
    "print(f\"Media aritmetica de Gravedad aparente:  {P:8.4f}\")\n",
    "print(f\"Error Absoluto Medio - EAM:             {EAM:8.4f}\")\n",
    "print(f\"Raiz Error Cuadratico Medio - RECM:     {RECM:8.4f}\")\n",
    "print(f\"------------------------------------------------------------\")"
   ]
  },
  {
   "cell_type": "markdown",
   "metadata": {},
   "source": [
    "## 3. Error relativo\n",
    "---\n",
    "Es el proceso de operar cifras aproximadas o truncadas\n",
    "\n",
    "\\begin{align}\n",
    "e_{r} & = \\frac{E}{V_r} = \\frac{ \\left| V_r-V_a \\right| }{V_r} \\\\\n",
    "\\overline{e_{r}} & = \\frac{EAM}{V_r} =  \\frac{1}{n} \\sum_{1}^n \\frac{ \\left| V_r-V_a \\right| }{V_r} \\\\\n",
    "\\end{align}\n"
   ]
  },
  {
   "cell_type": "code",
   "execution_count": 4,
   "metadata": {},
   "outputs": [
    {
     "output_type": "stream",
     "name": "stdout",
     "text": [
      "-----------------------------------------------------------------------------\nValor del modelo algebraico:   9.8179\n-----------------------------------------------------------------------------\n| No |  T [s]   |   g[m/s²]  | ERROR REAL | ERROR ABSOLUTO | ERROR RELATIVO |\n-----------------------------------------------------------------------------\n| No | V Medido | V aparente | Indididual |   Indididual   |   Indididual   |\n-----------------------------------------------------------------------------\n|  1 |    2.028 |     9.6006 |     0.2172 |         0.2172 |         2.21 % |\n|  2 |    2.023 |     9.6464 |     0.1715 |         0.1715 |         1.75 % |\n|  3 |    2.020 |     9.6740 |     0.1439 |         0.1439 |         1.47 % |\n|  4 |    2.010 |     9.7762 |     0.0416 |         0.0416 |         0.42 % |\n|  5 |    1.996 |     9.9087 |    -0.0909 |         0.0909 |         0.93 % |\n|  6 |    1.993 |     9.9375 |    -0.1196 |         0.1196 |         1.22 % |\n|  7 |    1.987 |     9.9953 |    -0.1775 |         0.1775 |         1.81 % |\n|  8 |    1.983 |    10.0439 |    -0.2261 |         0.2261 |         2.30 % |\n|  9 |    1.981 |    10.0635 |    -0.2456 |         0.2456 |         2.50 % |\n| 10 |    1.976 |    10.1126 |    -0.2947 |         0.2947 |         3.00 % |\n-----------------------------------------------------------------------------\nMedia aritmetica - M:    9.8759\nError Absoluto Medio - EAM:               0.1729\nRaiz Error Cuadratico Medio - RECM:       0.1875\nRaiz Porcentual Medio - EPM:              1.76 %\n-----------------------------------------------------------------------------\n"
     ]
    }
   ],
   "source": [
    "# Error Absoluto\n",
    "er_ga = 100 * ea_ga / g\n",
    "\n",
    "# Promedios\n",
    "EPM = sum(er_ga) / len(er_ga)\n",
    "\n",
    "# Salida estandar\n",
    "print(f\"-----------------------------------------------------------------------------\")\n",
    "print(f\"Valor del modelo algebraico: {g:8.4f}\")\n",
    "print(f\"-----------------------------------------------------------------------------\")\n",
    "print(f\"| No |  T [s]   |   g[m/s²]  | ERROR REAL | ERROR ABSOLUTO | ERROR RELATIVO |\")\n",
    "print(f\"-----------------------------------------------------------------------------\")\n",
    "print(f\"| No | V Medido | V aparente | Indididual |   Indididual   |   Indididual   |\")\n",
    "print(f\"-----------------------------------------------------------------------------\")\n",
    "for N in range(len(Tr)):\n",
    "    print(f\"| {N+1:2} | {To[N]:8.3f} | {ga[N]:10.4f} | {E_ga[N]:10.4f} | {ea_ga[N]:14.4f} | {er_ga[N]:12.2f} % |\")\n",
    "\n",
    "print(f\"-----------------------------------------------------------------------------\")\n",
    "print(f\"Media aritmetica - M:  {P:8.4f}\")\n",
    "print(f\"Error Absoluto Medio - EAM:             {EAM:8.4f}\")\n",
    "print(f\"Raiz Error Cuadratico Medio - RECM:     {RECM:8.4f}\")\n",
    "print(f\"Raiz Porcentual Medio - EPM:          {EPM:8.2f} %\")\n",
    "print(f\"-----------------------------------------------------------------------------\")\n",
    "\n",
    "\n"
   ]
  },
  {
   "source": [
    "# Incertidumbre\n",
    "---\n",
    "* **Incertidumbre:** Es una medida del ajuste o cálculo de una magnitud con respecto al valor que se supone real de dicha magnitud.\n",
    "* **Desviacion estandar:** Es una medida del ajuste o cálculo de una magnitud con respecto al valor que se supone real de dicha magnitud.\n",
    "\n",
    "\\begin{align}\n",
    "V_a & = \\overline{x} \\pm \\Delta x \\\\\n",
    "V_a & = \\mu \\pm \\sigma \\\\\n",
    "\\mu & =  \\frac{1}{n} \\sum_{1}^n x_i \\\\\n",
    "\\sigma & = \\sqrt{ \\frac{1}{n} \\sum_{1}^n \\left( \\mu - x_i \\right)^2 } \\\\\n",
    "\\end{align}"
   ],
   "cell_type": "markdown",
   "metadata": {}
  },
  {
   "cell_type": "code",
   "execution_count": 5,
   "metadata": {},
   "outputs": [
    {
     "output_type": "stream",
     "name": "stdout",
     "text": [
      "-----------------------------------------------\nValor promedio:       9.8759\nIncertidumbre:        0.0318\n-----------------------------------------------\nValor modelo:         9.8179\nValor aparente:       9.8759 ± 0.0318\n-----------------------------------------------\n"
     ]
    }
   ],
   "source": [
    "# Valor aparente\n",
    "μ = P                               # Valor promedio\n",
    "σ = sum((μ - ga)**2) / len(ga)      # Incertidumbre\n",
    "\n",
    "# Salida estandar\n",
    "print(f\"-----------------------------------------------\")\n",
    "print(f\"Valor promedio:     {μ:8.4f}\")\n",
    "print(f\"Incertidumbre:      {σ:8.4f}\")\n",
    "print(f\"-----------------------------------------------\")\n",
    "print(f\"Valor modelo:       {g:8.4f}\")\n",
    "print(f\"Valor aparente:     {μ:8.4f} ± {σ:.4f}\")\n",
    "print(f\"-----------------------------------------------\")"
   ]
  },
  {
   "cell_type": "markdown",
   "metadata": {
    "colab_type": "text",
    "id": "-Rh3-Vt9Nev9"
   },
   "source": [
    "---\n",
    "## Mas Recursos\n",
    "\n",
    "- [Métodos de redondeo](https://en.wikipedia.org/wiki/Rounding) (Wikipedia)\n",
    "- [Error de aproximación](https://es.wikipedia.org/wiki/Error_de_aproximaci%C3%B3n) (Wikipedia)\n",
    "- [Error absoluto medio](https://es.wikipedia.org/wiki/Error_absoluto_medio) (Wikipedia)\n",
    "\n"
   ]
  }
 ],
 "metadata": {
  "kernelspec": {
   "name": "python3",
   "display_name": "Python 3.8.2 32-bit",
   "metadata": {
    "interpreter": {
     "hash": "dcfa17eba1dc66845e0904f61caf004065b70fa6c516601030b63e53c64813c1"
    }
   }
  },
  "language_info": {
   "codemirror_mode": {
    "name": "ipython",
    "version": 3
   },
   "file_extension": ".py",
   "mimetype": "text/x-python",
   "name": "python",
   "nbconvert_exporter": "python",
   "pygments_lexer": "ipython3",
   "version": "3.8.2-final"
  }
 },
 "nbformat": 4,
 "nbformat_minor": 1
}