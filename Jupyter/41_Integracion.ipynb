{
 "cells": [
  {
   "cell_type": "markdown",
   "metadata": {},
   "source": [
    "# Integración Numérica\n",
    "<p><code>Python en Jupyter Notebook</code></p>\n",
    "<p>Creado por <code>Giancarlo Ortiz</code> para el curso de <code>Métodos Numéricos</code></p>\n",
    "<style type=\"text/css\">\n",
    "    .border {\n",
    "        display: inline-block;\n",
    "        border: solid 1px rgba(204, 204, 204, 0.4);\n",
    "        border-bottom-color: rgba(187, 187, 187, 0.4);\n",
    "        border-radius: 3px;\n",
    "        box-shadow: inset 0 -1px 0 rgba(187, 187, 187, 0.4);\n",
    "        background-color: inherit !important;\n",
    "        vertical-align: middle;\n",
    "        color: inherit !important;\n",
    "        font-size: 11px;\n",
    "        padding: 3px 5px;\n",
    "        margin: 0 2px;\n",
    "    }\n",
    "</style>\n",
    "\n",
    "## Solución de integrales por análisis numérico\n",
    "la integración numérica constituye una amplia gama de algoritmos para calcular el valor numérico de una integral definida\n",
    "\n",
    "## Agenda\n",
    "1. Generalidades\n",
    "1. Método del punto medio\n",
    "1. Método del trapecio\n",
    "1. Regla Simpson\n"
   ]
  },
  {
   "cell_type": "code",
   "execution_count": null,
   "metadata": {},
   "outputs": [],
   "source": [
    "# Importar módulos al cuaderno de jupyter\n",
    "import math as m \n",
    "import numpy as np\n",
    "import pylab as plt"
   ]
  },
  {
   "cell_type": "markdown",
   "metadata": {},
   "source": [
    "## 1. Generalidades\n",
    "---\n",
    "En un sistema de coordenadas cartesianas, La integral definida de una función representa el área limitada por la gráfica de la función y el eje de las abscisas $x$, tomando el signo positivo cuando la función está definida por encima del eje $x$ y signo negativo cuando la función toma valores negativos y está definida por debajo del eje $x$.\n",
    "\n",
    "\\begin{equation*}\n",
    "\\int_{a}^{b} f(x) \\,dx \\\\\n",
    "\\end{equation*}\n",
    "\n",
    "Teniendo en cuenta que el problema básico considerado por la integración numérica es calcular una solución aproximada a la integral definida; se tiene que el problema se reduce a calcular el área bajo la curva de la función en un intervalo definido.\n",
    "\n",
    "<p align=\"center\">\n",
    "  <img width=\"400\" src=\"img/definite_integral.png\">\n",
    "</p>\n",
    "\n",
    "## 2. Métodos del rectangulo\n",
    "---\n",
    "En el análisis numérico, los algoritmos del rectángulo son utiles para resolver numéricamente la integral definida; considerando una aproximaxion de la integral definida como la suma finita de las areas de rectangulos rectangulos.\n",
    "\n",
    "<p align=\"center\">\n",
    "  <img width=\"400\" src=\"img/Riemann_sum.png\">\n",
    "</p>\n",
    "\n",
    "### a. Suma de Riemann por la izquierda\n",
    "En el análisis numérico, el método del punto medio es uno de los algoritmos del rectángulo para resolver numéricamente la integral definida; considerando que la función evaluada en el punto medio es la altura del rectángulo.\n",
    "### b. Suma de Riemann por la izquierda\n",
    "En el análisis numérico, el método del punto medio es uno de los algoritmos del rectángulo para resolver numéricamente la integral definida; considerando que la función evaluada en el punto medio es la altura del rectángulo.\n",
    "### c. Método del punto medio\n",
    "En el análisis numérico, el método del punto medio es uno de los algoritmos del rectángulo para resolver numéricamente la integral definida; considerando que la función evaluada en el punto medio es la altura del rectángulo.\n",
    "\n",
    "## 3. Método del trapecio\n",
    "---\n",
    "En matemáticas, el método de bisección es un algoritmo de búsqueda de raíces que trabaja dividiendo el intervalo a la mitad y seleccionando el subintervalo que tiene la raíz.\n",
    "\n",
    "\\begin{equation*}\n",
    "f(x_1, x_2, ... , x_n) = g(x_1, x_2, ... , x_n) \\\\\n",
    "\\end{equation*}\n"
   ]
  },
  {
   "source": [
    "## 4. Regla Simpson\n",
    "---\n",
    "### a. Ecuaciones lineales\n",
    "Un caso particular de las ecuaciones algebraicas sucede cuando solo los dos primeros coeficientes son distintos de cero y la solucion para x es unica y trivial.\n",
    "\n",
    "\\begin{align}\n",
    "a_0 + a_1 x & = 0, \\quad a_1 \\neq 0 \\\\\n",
    "x & = \\frac{-a_0}{a_1} \\\\\n",
    "\\end{align}\n",
    "\n",
    "### b. Ecuaciones cuadraticas\n",
    "Un caso particular de las ecuaciones algebraicas sucede cuando solo los tres primeros coeficientes son distintos de cero y las 2 soluciones para x no son compleja.\n",
    "\n",
    "\\begin{align}\n",
    "a_0 + a_1 x + a_2 x^2 & = 0, \\quad a_1 \\neq 0 \\\\\n",
    "x_1, x_2 & = \\frac{-a_1 \\pm \\sqrt{a_1^2 - 4 a_2 a_0 }}{2 a_2} \\\\\n",
    "\\end{align}"
   ],
   "cell_type": "markdown",
   "metadata": {}
  },
  {
   "cell_type": "markdown",
   "metadata": {
    "colab_type": "text",
    "id": "-Rh3-Vt9Nev9"
   },
   "source": [
    "---\n",
    "## Mas Recursos\n",
    "\n",
    "- [Integración numérica](https://es.wikipedia.org/wiki/Integraci%C3%B3n_num%C3%A9rica) (Wikipedia)\n",
    "- [Suma de Riemann](https://es.wikipedia.org/wiki/Suma_de_Riemann) (Wikipedia)\n",
    "- [Regla del trapecio](https://es.wikipedia.org/wiki/Regla_del_trapecio) (Wikipedia)\n",
    "- [Regla de Simpson](https://es.wikipedia.org/wiki/Regla_de_Simpson) (Wikipedia)\n",
    "\n"
   ]
  }
 ],
 "metadata": {
  "kernelspec": {
   "name": "python3",
   "display_name": "Python 3.8.2 32-bit",
   "metadata": {
    "interpreter": {
     "hash": "dcfa17eba1dc66845e0904f61caf004065b70fa6c516601030b63e53c64813c1"
    }
   }
  },
  "language_info": {
   "codemirror_mode": {
    "name": "ipython",
    "version": 3
   },
   "file_extension": ".py",
   "mimetype": "text/x-python",
   "name": "python",
   "nbconvert_exporter": "python",
   "pygments_lexer": "ipython3",
   "version": "3.8.2-final"
  }
 },
 "nbformat": 4,
 "nbformat_minor": 1
}