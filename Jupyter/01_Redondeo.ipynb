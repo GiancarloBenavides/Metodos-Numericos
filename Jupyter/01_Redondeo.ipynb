{
 "cells": [
  {
   "cell_type": "markdown",
   "metadata": {},
   "source": [
    "<style type=\"text/css\">\n",
    "    .formula {\n",
    "        background: #f7f7f7;\n",
    "        border-radius: 50px;\n",
    "        padding: 15px;\n",
    "    }\n",
    "    .border {\n",
    "        display: inline-block;\n",
    "        border: solid 1px rgba(204, 204, 204, 0.4);\n",
    "        border-bottom-color: rgba(187, 187, 187, 0.4);\n",
    "        border-radius: 3px;\n",
    "        box-shadow: inset 0 -1px 0 rgba(187, 187, 187, 0.4);\n",
    "        background-color: inherit !important;\n",
    "        vertical-align: middle;\n",
    "        color: inherit !important;\n",
    "        font-size: 11px;\n",
    "        padding: 3px 5px;\n",
    "        margin: 0 2px;\n",
    "    }\n",
    "</style>\n",
    "\n",
    "# Teoría del Error\n",
    "<p><code>Python en Jupyter Notebook</code></p>\n",
    "<p>Creado por <code>Giancarlo Ortiz</code> para el curso de <code>Métodos Numéricos</code></p>\n",
    "\n",
    "## Tipos de redondeo\n",
    "El error es inherente a los métodos numéricos, por tanto es fundamental hacer seguimiento de la propagación de los errores cometidos a fin de poder estimar el grado de aproximación de la solución que se obtiene.\n",
    "\n",
    "### Agenda\n",
    "1. Cifras significativas\n",
    "1. Aproximación\n",
    "1. Truncamiento\n",
    "\n",
    "## 1. Cifras significativas\n",
    "----\n",
    " Las cifras significativas de un número son aquellos digitos que pueden utilizarse en forma confiable, de forma que sobre ellos no existe incertidumbre\n",
    "\n"
   ]
  },
  {
   "cell_type": "code",
   "execution_count": 1,
   "metadata": {},
   "outputs": [
    {
     "output_type": "stream",
     "name": "stdout",
     "text": [
      "| 1.24        | 5e-07     | 0.000536  |\n| 1.2400000   | 0.0000005 | 0.0005360 |\n| 1.240e+00   | 5.000e-07 | 5.360e-04 |\n"
     ]
    }
   ],
   "source": [
    "# Formato de numero para ver cifras significativas\n",
    "x=1.24\n",
    "y=0.0000005\n",
    "z=0.000536\n",
    "print(f\"| {x}        | {y}     | {z}  |\")\n",
    "print(f\"| {x:7.7f}   | {y:7.7f} | {z:7.7f} |\")\n",
    "print(f\"| {x:7.3e}   | {y:7.3e} | {z:7.3e} |\")"
   ]
  },
  {
   "cell_type": "code",
   "execution_count": 2,
   "metadata": {},
   "outputs": [
    {
     "output_type": "stream",
     "name": "stdout",
     "text": [
      "90316322.10000001\nPrecio Xiomi [1 Unid]   :      3,010,544.07  :  <class 'float'>\nPrecio Xiomi [30 Unid]  :     90,316,322.10  :  <class 'float'>\n"
     ]
    }
   ],
   "source": [
    "# Precio del Xiomi MI10T Pro-128GB\n",
    "Precio_xiomi_euros = 699         # Euros\n",
    "Valor_euro = 4_306.93\n",
    "Número_alumnos = 30\n",
    "Precio_xiomi = Precio_xiomi_euros * Valor_euro\n",
    "Costo_telefonos_1 = Número_alumnos * Precio_xiomi\n",
    "print(Costo_telefonos_1)\n",
    "print(f\"Precio Xiomi [1 Unid]   :      {Precio_xiomi:,.2f}  :  {type(Precio_xiomi)}\")\n",
    "print(f\"Precio Xiomi [{Número_alumnos} Unid]  :     {Costo_telefonos_1:,.2f}  :  {type(Costo_telefonos_1)}\")"
   ]
  },
  {
   "cell_type": "code",
   "execution_count": 3,
   "metadata": {},
   "outputs": [
    {
     "output_type": "stream",
     "name": "stdout",
     "text": [
      "Cifras Significativas Costo:      8\n"
     ]
    }
   ],
   "source": [
    "Cifras_costo_1 = len(str(int(Costo_telefonos_1)))\n",
    "print(f\"Cifras Significativas Costo:      {Cifras_costo_1}\")"
   ]
  },
  {
   "source": [
    "## 2. Aproximación\n",
    "----\n",
    "Es el proceso de sumar o restar valores para reducir el número de cifras significativas en la expresión decimal"
   ],
   "cell_type": "markdown",
   "metadata": {}
  },
  {
   "cell_type": "code",
   "execution_count": 4,
   "metadata": {},
   "outputs": [
    {
     "output_type": "stream",
     "name": "stdout",
     "text": [
      "Precio Xiomi [1 Unid]   :      3,010,544.07  :  <class 'float'>\nPrecio iphone [1 Unid]  :      5_199_900.00  :  <class 'int'>\nPrecio Xiomi [30 Unid]  :     90,316,322.10  :  <class 'float'>\nPrecio iphone [30 Unid] :    155,997,000.00  :  <class 'int'>\n"
     ]
    }
   ],
   "source": [
    "# Precio de 30 Iphone 12-128GB en fallabella\n",
    "Precio_iphone = 5_199_900       # Presos Colombianos\n",
    "Costo_telefonos_2 = Número_alumnos * Precio_iphone\n",
    "\n",
    "print(f\"Precio Xiomi [1 Unid]   :      {Precio_xiomi:,.2f}  :  {type(Precio_xiomi)}\")\n",
    "print(f\"Precio iphone [1 Unid]  :      {Precio_iphone:_.2f}  :  {type(Precio_iphone)}\")\n",
    "print(f\"Precio Xiomi [{Número_alumnos} Unid]  :     {Costo_telefonos_1:,.2f}  :  {type(Costo_telefonos_1)}\")\n",
    "print(f\"Precio iphone [{Número_alumnos} Unid] :    {Costo_telefonos_2:,.2f}  :  {type(Costo_telefonos_2)}\")"
   ]
  },
  {
   "cell_type": "code",
   "execution_count": 5,
   "metadata": {},
   "outputs": [
    {
     "output_type": "stream",
     "name": "stdout",
     "text": [
      "Precio Xiomi [30 Unid]  :     90,316,322.10  :  <class 'float'>\nPrecio iphone [30 Unid] :    155,997,000.00  :  <class 'int'>\n-----------------------------------------------------------------\nSobrecosto 30 iphone    :     65,680,677.90  [Pesos]\nSobrecosto en porcentaje:             37.51  [  %  ]\n"
     ]
    }
   ],
   "source": [
    "Sobrecosto = Costo_telefonos_2 - Costo_telefonos_1\n",
    "Porcetaje_sobrecosto = 100 * ((Costo_telefonos_1 - Sobrecosto) / Sobrecosto)\n",
    "print(f\"Precio Xiomi [{Número_alumnos} Unid]  :     {Costo_telefonos_1:,.2f}  :  {type(Costo_telefonos_1)}\")\n",
    "print(f\"Precio iphone [{Número_alumnos} Unid] :    {Costo_telefonos_2:,.2f}  :  {type(Costo_telefonos_2)}\")\n",
    "print(\"-----------------------------------------------------------------\")\n",
    "print(f\"Sobrecosto {Número_alumnos} iphone    :     {Sobrecosto:,.2f}  [Pesos]\")\n",
    "print(f\"Sobrecosto en porcentaje:             {Porcetaje_sobrecosto:,.2f}  [  %  ]\")"
   ]
  },
  {
   "cell_type": "code",
   "execution_count": 6,
   "metadata": {},
   "outputs": [
    {
     "output_type": "stream",
     "name": "stdout",
     "text": [
      "Cifras Significativas Costo 1:      8\nCifras Significativas Costo 2:      9\n"
     ]
    }
   ],
   "source": [
    "\n",
    "Cifras_costo_2 = len(str(int(Costo_telefonos_2)))\n",
    "print(f\"Cifras Significativas Costo 1:      {Cifras_costo_1}\")\n",
    "print(f\"Cifras Significativas Costo 2:      {Cifras_costo_2}\")\n"
   ]
  },
  {
   "cell_type": "code",
   "execution_count": 7,
   "metadata": {},
   "outputs": [
    {
     "output_type": "stream",
     "name": "stdout",
     "text": [
      "          |        Costo Real |  Costo aproximado |       Variación |     %     |\nCosto 1:  |     90,316,322.10 |     90,300,000.00 |      -16,322.10 |   -0.02%  |\nCosto 2:  |    155,997,000.00 |    156,000,000.00 |        3,000.00 |    0.00%  |\n"
     ]
    }
   ],
   "source": [
    "Cifras_significativas = 3\n",
    "Cifras_eliminar_1 = Cifras_costo_1 - Cifras_significativas\n",
    "Cifras_eliminar_2 = Cifras_costo_2 - Cifras_significativas\n",
    "Costo_aprox_1 = round(Costo_telefonos_1/(10 ** Cifras_eliminar_1), 0)*(10**Cifras_eliminar_1)\n",
    "Costo_aprox_2 = round(Costo_telefonos_2/(10 ** Cifras_eliminar_2), 0)*(10**Cifras_eliminar_2)\n",
    "Variacion_1 =  Costo_aprox_1 - Costo_telefonos_1\n",
    "Variacion_2 =  Costo_aprox_2 - Costo_telefonos_2\n",
    "Variacion_porcentual_1 =  100 * (Variacion_1 / Costo_telefonos_1)\n",
    "Variacion_porcentual_2 =  100 * (Variacion_2 / Costo_telefonos_2)\n",
    "print(f\"          |        Costo Real |  Costo aproximado |       Variación |     %     |\")\n",
    "print(f\"Costo 1:  |    {Costo_telefonos_1:14,.2f} |    {Costo_aprox_1:14,.2f} |    {Variacion_1:12,.2f} |   {Variacion_porcentual_1:,.2f}%  |\")\n",
    "print(f\"Costo 2:  |    {Costo_telefonos_2:14,.2f} |    {Costo_aprox_2:14,.2f} |    {Variacion_2:12,.2f} |    {Variacion_porcentual_2:,.2f}%  |\")"
   ]
  },
  {
   "cell_type": "code",
   "execution_count": 8,
   "metadata": {},
   "outputs": [
    {
     "output_type": "stream",
     "name": "stdout",
     "text": [
      "Sobrecosto 30 iphone    :     65,700,000.00  [Pesos]\nSobrecosto en porcentaje:             37.44  [  %  ]\n"
     ]
    }
   ],
   "source": [
    "Sobrecosto_aprox = Costo_aprox_2 - Costo_aprox_1\n",
    "Porcetaje_sobrecosto_aprox = 100 * ((Costo_aprox_1 - Sobrecosto_aprox) / Sobrecosto_aprox)\n",
    "print(f\"Sobrecosto {Número_alumnos} iphone    :     {Sobrecosto_aprox:,.2f}  [Pesos]\")\n",
    "print(f\"Sobrecosto en porcentaje:             {Porcetaje_sobrecosto_aprox:,.2f}  [  %  ]\")"
   ]
  },
  {
   "cell_type": "code",
   "execution_count": 9,
   "metadata": {},
   "outputs": [
    {
     "output_type": "stream",
     "name": "stdout",
     "text": [
      "Variacion del sobrecosto:             0.07  [  %  ]\n"
     ]
    }
   ],
   "source": [
    "Delta_de_sobreosto = Porcetaje_sobrecosto - Porcetaje_sobrecosto_aprox\n",
    "print(f\"Variacion del sobrecosto:             {Delta_de_sobreosto:,.2f}  [  %  ]\")"
   ]
  },
  {
   "source": [
    "## 3. Truncamiento\n",
    "---\n",
    "Es el proceso de descartar cifras en la expresión decimal"
   ],
   "cell_type": "markdown",
   "metadata": {}
  },
  {
   "cell_type": "code",
   "execution_count": 10,
   "metadata": {
    "tags": []
   },
   "outputs": [
    {
     "output_type": "stream",
     "name": "stdout",
     "text": [
      "Número áureo:  1.618033988749895\nNúmero euler:  2.718281828459045\nNúmero pi:  3.141592653589793\nredondear 1:  3.142\nredondear 2:  3.141\nredondear 3:  3.142\n"
     ]
    }
   ],
   "source": [
    "import math as m\n",
    "from math import pi\n",
    "\n",
    "x1=(1+m.sqrt(5))/2\n",
    "x2=m.e\n",
    "x3=pi\n",
    "\n",
    "y1=round(x3,3)\n",
    "y2=m.floor(x3*1000)/1000\n",
    "y3=m.ceil(x3*1000)/1000\n",
    "\n",
    "print('Número áureo: ', x1)\n",
    "print('Número euler: ', x2)\n",
    "print('Número pi: ', x3)\n",
    "print('redondear 1: ', y1)\n",
    "print('redondear 2: ', y2)\n",
    "print('redondear 3: ', y3)"
   ]
  },
  {
   "cell_type": "code",
   "execution_count": 11,
   "metadata": {
    "tags": []
   },
   "outputs": [
    {
     "output_type": "stream",
     "name": "stdout",
     "text": [
      "Error coma flotante 1:  0.30000000000000004\ntratamiento error   1:  0.3\nError coma flotante 2:  2.0000000000000004\ntratamiento error   2:  2.0\n"
     ]
    }
   ],
   "source": [
    "# Truncamiento por representacion de numeros en coma flotante\n",
    "x1=0.1\n",
    "x2=0.2\n",
    "X3=x1+x2\n",
    "x4=pow(m.sqrt(2),2)\n",
    "\n",
    "y1=x1+x2\n",
    "y2=m.floor(y1*10)/10\n",
    "y3=x4\n",
    "y4=m.floor(y3*10)/10\n",
    "\n",
    "print('Error coma flotante 1: ', y1)\n",
    "print('tratamiento error   1: ', y2)\n",
    "print('Error coma flotante 2: ', y3)\n",
    "print('tratamiento error   2: ', y4)"
   ]
  },
  {
   "cell_type": "code",
   "execution_count": 12,
   "metadata": {},
   "outputs": [
    {
     "output_type": "stream",
     "name": "stdout",
     "text": [
      "Truncar 1:  -7\nTruncar 2:  -7\nTruncar 3:  -8\n"
     ]
    }
   ],
   "source": [
    "# Truncamiento intencionado\n",
    "x1=-7.4\n",
    "\n",
    "y1=int(x1)\n",
    "y2=m.trunc(x1)\n",
    "y3=m.floor(x1)\n",
    "\n",
    "print('Truncar 1: ', y1)\n",
    "print('Truncar 2: ', y2)\n",
    "print('Truncar 3: ', y3)"
   ]
  },
  {
   "cell_type": "markdown",
   "metadata": {},
   "source": [
    "## 3. Propagación\n",
    "Es el proceso de operar cifras aproximadas o truncadas"
   ]
  },
  {
   "cell_type": "code",
   "execution_count": 5,
   "metadata": {
    "tags": []
   },
   "outputs": [
    {
     "name": "stdout",
     "output_type": "stream",
     "text": [
      "Aproximación pi:  3.141592653589793\n",
      "Tipo de dato pi:  <class 'float'>\n",
      "Propagación Error:  -2.4492935982947065e-15\n",
      "-------------------\n",
      "Conjugado :  (3+4j)\n",
      "Tipo de dato conjugado:  <class 'complex'>\n",
      "Magnitud conjugado:  5.0\n",
      "Tipo de dato magnitud conjugado:  <class 'float'>\n",
      "-------------------\n",
      "Aproximación e:  2.718281828459045\n",
      "Propagación Error:  1.0\n"
     ]
    }
   ],
   "source": [
    "x1=pi\n",
    "x2=3+4j\n",
    "x3=m.exp(1)\n",
    "\n",
    "y1=10*m.sin(2*pi)\n",
    "y2=abs(x2)\n",
    "y3=m.log(x3)\n",
    "\n",
    "print('Aproximación pi: ', x1)\n",
    "print('Tipo de dato pi: ', type(x1))\n",
    "print('Propagación Error: ', y1)\n",
    "print('-------------------')\n",
    "# complejos\n",
    "print('Conjugado : ', x2)\n",
    "print('Tipo de dato conjugado: ', type(x2))\n",
    "print('Magnitud conjugado: ', y2)\n",
    "print('Tipo de dato magnitud conjugado: ', type(y2))\n",
    "print('-------------------')\n",
    "print('Aproximación e: ', x3)\n",
    "print('Propagación Error: ', y3)"
   ]
  },
  {
   "cell_type": "markdown",
   "metadata": {
    "colab_type": "text",
    "id": "-Rh3-Vt9Nev9"
   },
   "source": [
    "---\n",
    "## Mas Recursos\n",
    "\n",
    "- [Métodos de redondeo en Wikipedia](https://en.wikipedia.org/wiki/Rounding)\n",
    "- [Jupyter Notebooks in Visual Studio Code documentation](https://code.visualstudio.com/docs/python/jupyter-support)\n"
   ]
  }
 ],
 "metadata": {
  "kernelspec": {
   "name": "python3",
   "display_name": "Python 3.8.2 32-bit",
   "metadata": {
    "interpreter": {
     "hash": "dcfa17eba1dc66845e0904f61caf004065b70fa6c516601030b63e53c64813c1"
    }
   }
  },
  "language_info": {
   "codemirror_mode": {
    "name": "ipython",
    "version": 3
   },
   "file_extension": ".py",
   "mimetype": "text/x-python",
   "name": "python",
   "nbconvert_exporter": "python",
   "pygments_lexer": "ipython3",
   "version": "3.8.2-final"
  }
 },
 "nbformat": 4,
 "nbformat_minor": 1
}