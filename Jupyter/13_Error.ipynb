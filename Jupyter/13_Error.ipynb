{
 "cells": [
  {
   "cell_type": "markdown",
   "metadata": {},
   "source": [
    "# Teoría del Error\n",
    "<p><code>Python en Jupyter Notebook</code></p>\n",
    "<p>Creado por <code>Giancarlo Ortiz</code> para el curso de <code>Métodos Numéricos</code></p>\n",
    "<style type=\"text/css\">\n",
    "    .formula {\n",
    "        background: #f7f7f7;\n",
    "        border-radius: 50px;\n",
    "        padding: 15px;\n",
    "    }\n",
    "    .border {\n",
    "        display: inline-block;\n",
    "        border: solid 1px rgba(204, 204, 204, 0.4);\n",
    "        border-bottom-color: rgba(187, 187, 187, 0.4);\n",
    "        border-radius: 3px;\n",
    "        box-shadow: inset 0 -1px 0 rgba(187, 187, 187, 0.4);\n",
    "        background-color: inherit !important;\n",
    "        vertical-align: middle;\n",
    "        color: inherit !important;\n",
    "        font-size: 11px;\n",
    "        padding: 3px 5px;\n",
    "        margin: 0 2px;\n",
    "    }\n",
    "</style>\n",
    "\n",
    "\n",
    "## Error\n",
    "El error es inherente a los métodos numéricos, por tanto es fundamental hacer seguimiento de la propagación de los errores cometidos a fin de poder estimar el grado de aproximación de la solución que se obtiene.\n",
    "\n",
    "## Agenda\n",
    "1. Error real\n",
    "1. Error absoluto\n",
    "1. Error relativo\n",
    "1. Incertidumbre"
   ]
  },
  {
   "cell_type": "code",
   "execution_count": 1,
   "metadata": {},
   "outputs": [],
   "source": [
    "# Importar módulos al cuaderno de jupyter\n",
    "import math as m \n",
    "import numpy as np\n",
    "import pylab as plt\n",
    "\n",
    "# Definir e incluir nuevas funciones al cuaderno\n",
    "def _significativas(valor, cifras):\n",
    "    ''' Reducir un valor a un numero de cifras significativas '''\n",
    "    Primera_significativa = -int(m.floor(m.log10(abs(valor))))\n",
    "    decimales = Primera_significativa + cifras - 1\n",
    "    return round(valor, decimales)\n",
    "\n",
    "def _normalizar(valor, referencia):\n",
    "    ''' Aproximar un numero a las cifras significativas de la referencia'''\n",
    "    Primera_significativa = -int(m.floor(m.log10(abs(referencia))))\n",
    "    cifras = Primera_significativa + 1\n",
    "    return _significativas(valor, cifras)"
   ]
  },
  {
   "cell_type": "markdown",
   "metadata": {},
   "source": [
    "## 1. Error real\n",
    "---\n",
    "El error real por definición es la diferencia entre el valor que se considera real y el valor aproximado, puede ser positivo si el error es por defecto, o negativo si el error es por exceso.\n",
    "\n",
    "\\begin{equation*}\n",
    "E = V_r - V_a \\\\\n",
    "\\end{equation*}\n"
   ]
  },
  {
   "cell_type": "markdown",
   "metadata": {},
   "source": [
    "### <code>Ejemplo:</code> Constante de la gravedad\n",
    "---\n",
    "Cálculo de la constante de la gravedad como un valor aparente $\\color{#a78a4d}{g_a}$ a partir de un conjunto de medidas del periodo de oscilación en un sistema de péndulo simple con longitud conocida.\n",
    "<p align=\"center\">\n",
    "  <img height=\"300\" src=\"img/gravity.gif\">\n",
    "</p>"
   ]
  },
  {
   "cell_type": "code",
   "execution_count": 2,
   "metadata": {},
   "outputs": [
    {
     "output_type": "stream",
     "name": "stdout",
     "text": [
      "--------------------------------------------------------\nValor del modelo algebraico:   9.8179\n--------------------------------------------------------\n| No |  T [s]   |  To [s]    | g [m/s²]   | ERROR REAL |\n--------------------------------------------------------\n| No | V Medido | V aparente | V aparente | Individual |\n--------------------------------------------------------\n|  1 |    2.106 |      2.028 |     9.6006 |     0.2172 |\n|  2 |    2.101 |      2.023 |     9.6464 |     0.1715 |\n|  3 |    2.098 |      2.020 |     9.6740 |     0.1439 |\n|  4 |    2.087 |      2.010 |     9.7762 |     0.0416 |\n|  5 |    2.073 |      1.996 |     9.9087 |    -0.0909 |\n|  6 |    2.070 |      1.993 |     9.9375 |    -0.1196 |\n|  7 |    2.064 |      1.987 |     9.9953 |    -0.1775 |\n|  8 |    2.059 |      1.983 |    10.0439 |    -0.2261 |\n|  9 |    2.057 |      1.981 |    10.0635 |    -0.2456 |\n| 10 |    2.052 |      1.976 |    10.1126 |    -0.2947 |\n--------------------------------------------------------\n| P  |    2.077 |      2.000 |     9.8759 |    -0.0580 |\n--------------------------------------------------------\n| D  |    0.019 |      0.018 |     0.1782 |     0.1782 |\n--------------------------------------------------------\n"
     ]
    }
   ],
   "source": [
    "# Modelo de gravitación Básico\n",
    "# Medidas directas de longitud y ángulo en el experimento\n",
    "Longitud = 1; θ = 45; deltaT = 0.30\n",
    "\n",
    "# Medidas directas del periodo cada 30 segundos\n",
    "Tr = [2.106, 2.101, 2.098, 2.087, 2.073, 2.070, 2.064, 2.059, 2.057, 2.052]\n",
    "\n",
    "# Valores reales\n",
    "Lat = 1.209673                                                      # Latitud de (Pasto - Nariño)\n",
    "Alt = 2_539                                                         # Altitud de (Pasto - Nariño)\n",
    "R = 6_371_000                                                       # Radio medio de la tierra\n",
    "Afc = 1 + 0.0053024 * m.sin(Lat)**2 - 0.0000058 * m.sin(2*Lat)**2   # Aporte de la fuerza centrifuga\n",
    "Afg = 1 - (2/R)*Alt + (3/R**2)*Alt**2                               # Aporte de la distancia al centro\n",
    "g = 9.780327 * Afc * Afg\n",
    "\n",
    "# Péndulo Simple\n",
    "Ti = np.array(Tr)               # Periodo (Medida directa)\n",
    "θ_rad = θ * (m.pi/180)          # Conversión del ángulo a radianes (~Medida directa)\n",
    "To = Ti / (1 + (θ_rad/4)**2)    # Corrección para ángulos grandes (~Medida directa)\n",
    "K = 4 * Longitud * m.pi**2      # Constante de proporcionalidad (~Medida directa)    \n",
    "\n",
    "# Medida indirecta o aparente de la gravedad\n",
    "ga = K / To**2\n",
    "\n",
    "# Error Real\n",
    "Et_ga = g - ga\n",
    "\n",
    "# Media aritmética (Promedio - P)\n",
    "P_Ti = sum(Ti) / len(Ti)\n",
    "P_To = sum(To) / len(To)\n",
    "P_ga = sum(ga) / len(ga)\n",
    "P_Et = sum(Et_ga) / len(Et_ga)\n",
    "\n",
    "# Desviación típica (Desviación - D)\n",
    "D_Ti = ((1/len(Ti)) * sum((P_Ti - Ti)**2))**(1/2)\n",
    "D_To = ((1/len(To)) * sum((P_To - To)**2))**(1/2)\n",
    "D_ga = ((1/len(ga)) * sum((P_ga - ga)**2))**(1/2)\n",
    "D_Et = ((1/len(Et_ga)) * sum((P_Et - Et_ga)**2))**(1/2)\n",
    "\n",
    "# Salida estándar\n",
    "print(f\"--------------------------------------------------------\")\n",
    "print(f\"Valor del modelo algebraico: {g:8.4f}\")\n",
    "print(f\"--------------------------------------------------------\")\n",
    "print(f\"| No |  T [s]   |  To [s]    | g [m/s²]   | ERROR REAL |\")\n",
    "print(f\"--------------------------------------------------------\")\n",
    "print(f\"| No | V Medido | V aparente | V aparente | Individual |\")\n",
    "print(f\"--------------------------------------------------------\")\n",
    "for N in range(len(Tr)):\n",
    "    print(f\"| {N+1:2} | {Ti[N]:8.3f} | {To[N]:10.3f} | {ga[N]:10.4f} | {Et_ga[N]:10.4f} |\")\n",
    "\n",
    "print(f\"--------------------------------------------------------\")\n",
    "print(f\"| P  | {P_Ti:8.3f} | {P_To:10.3f} | {P_ga:10.4f} | {P_Et:10.4f} |\")\n",
    "print(f\"--------------------------------------------------------\")\n",
    "print(f\"| D  | {D_Ti:8.3f} | {D_To:10.3f} | {D_ga:10.4f} | {D_Et:10.4f} |\")\n",
    "print(f\"--------------------------------------------------------\")\n"
   ]
  },
  {
   "cell_type": "markdown",
   "metadata": {},
   "source": [
    "## 1. Error absoluto\n",
    "---\n",
    "El error absoluto por definición la diferencia entre el valor que se considera real y el valor aproximado, siempre es positivo; cuando se realizan $\\color{#a78a4d}{n}$ medidas de un mismo fenómeno se puede calcular como el promedio de los errores absolutos individuales o la raíz del error cuadrático medio.\n",
    "\n",
    "\n",
    "\\begin{align}\n",
    "e_{a} & = \\left| E \\right| = \\left| V_r-V_a \\right| \\\\\n",
    "EAM  & = \\frac{1}{n}  \\sum_{1}^n e_{a} =  \\frac{1}{n} \\sum_{1}^n \\left| V_r-V_a \\right| \\\\\n",
    "RECM & =  \\sqrt{ \\frac{1}{n} \\sum_{1}^n \\left( V_r-V_a \\right)^2 } \\\\\n",
    "\\end{align}\n"
   ]
  },
  {
   "cell_type": "code",
   "execution_count": 3,
   "metadata": {},
   "outputs": [
    {
     "output_type": "stream",
     "name": "stdout",
     "text": [
      "-------------------------------------------------------------------------\n| No |  T [s]   |  To [s]    |   g[m/s²]  | ERROR REAL | ERROR ABSOLUTO |\n-------------------------------------------------------------------------\n| No | V Medido | V aparente | V aparente | Individual |   Individual   |\n-------------------------------------------------------------------------\n|  1 |    2.106 |      2.028 |     9.6006 |     0.2172 |         0.2172 |\n|  2 |    2.101 |      2.023 |     9.6464 |     0.1715 |         0.1715 |\n|  3 |    2.098 |      2.020 |     9.6740 |     0.1439 |         0.1439 |\n|  4 |    2.087 |      2.010 |     9.7762 |     0.0416 |         0.0416 |\n|  5 |    2.073 |      1.996 |     9.9087 |    -0.0909 |         0.0909 |\n|  6 |    2.070 |      1.993 |     9.9375 |    -0.1196 |         0.1196 |\n|  7 |    2.064 |      1.987 |     9.9953 |    -0.1775 |         0.1775 |\n|  8 |    2.059 |      1.983 |    10.0439 |    -0.2261 |         0.2261 |\n|  9 |    2.057 |      1.981 |    10.0635 |    -0.2456 |         0.2456 |\n| 10 |    2.052 |      1.976 |    10.1126 |    -0.2947 |         0.2947 |\n-------------------------------------------------------------------------\n| P  |    2.077 |      2.000 |     9.8759 |    -0.0580 |         0.1729 |\n-------------------------------------------------------------------------\n| D  |    0.019 |      0.018 |     0.1782 |     0.1782 |         0.0725 |\n-------------------------------------------------------------------------\nError Absoluto Medio - EAM:               0.1729\nRaíz Error Cuadrático Medio - RECM:       0.1875\n-------------------------------------------------------------------------\n"
     ]
    }
   ],
   "source": [
    "# Error Absoluto\n",
    "ea_ga = abs(Et_ga)\n",
    "\n",
    "# Media aritmética (Promedio - P)\n",
    "P_ea = sum(ea_ga) / len(ea_ga)\n",
    "\n",
    "# Desviación típica (Desviación - D)\n",
    "D_ea = ((1/len(ea_ga)) * sum((P_ea - ea_ga)**2))**(1/2)\n",
    "\n",
    "# Otros Promedios\n",
    "EAM = sum(ea_ga) / len(ea_ga)\n",
    "RECM = ((1/len(Et_ga)) * sum((Et_ga)**2))**(1/2)\n",
    "\n",
    "# Salida estándar\n",
    "print(f\"-------------------------------------------------------------------------\")\n",
    "print(f\"| No |  T [s]   |  To [s]    |   g[m/s²]  | ERROR REAL | ERROR ABSOLUTO |\")\n",
    "print(f\"-------------------------------------------------------------------------\")\n",
    "print(f\"| No | V Medido | V aparente | V aparente | Individual |   Individual   |\")\n",
    "print(f\"-------------------------------------------------------------------------\")\n",
    "for N in range(len(Tr)):\n",
    "    print(f\"| {N+1:2} | {Ti[N]:8.3f} | {To[N]:10.3f} | {ga[N]:10.4f} | {Et_ga[N]:10.4f} | {ea_ga[N]:14.4f} |\")\n",
    "\n",
    "print(f\"-------------------------------------------------------------------------\")\n",
    "print(f\"| P  | {P_Ti:8.3f} | {P_To:10.3f} | {P_ga:10.4f} | {P_Et:10.4f} | {P_ea:14.4f} |\")\n",
    "print(f\"-------------------------------------------------------------------------\")\n",
    "print(f\"| D  | {D_Ti:8.3f} | {D_To:10.3f} | {D_ga:10.4f} | {D_Et:10.4f} | {D_ea:14.4f} |\")\n",
    "print(f\"-------------------------------------------------------------------------\")\n",
    "print(f\"Error Absoluto Medio - EAM:             {EAM:8.4f}\")\n",
    "print(f\"Raíz Error Cuadrático Medio - RECM:     {RECM:8.4f}\")\n",
    "print(f\"-------------------------------------------------------------------------\")"
   ]
  },
  {
   "cell_type": "markdown",
   "metadata": {},
   "source": [
    "## 3. Error relativo\n",
    "---\n",
    "Es el proceso de operar cifras aproximadas o truncadas.\n",
    "\n",
    "\\begin{align}\n",
    "e_{r} & = \\frac{E}{V_r} = \\frac{ \\left| V_r-V_a \\right| }{V_r} \\\\\n",
    "\\overline{e_{r}} & = \\frac{EAM}{V_r} =  \\frac{1}{n} \\sum_{1}^n \\frac{ \\left| V_r-V_a \\right| }{V_r} \\\\\n",
    "\\end{align}\n"
   ]
  },
  {
   "cell_type": "code",
   "execution_count": 4,
   "metadata": {},
   "outputs": [
    {
     "output_type": "stream",
     "name": "stdout",
     "text": [
      "------------------------------------------------------------------------------------------\n| No |  T [s]   |  To [s]    |   g[m/s²]  | ERROR REAL | ERROR ABSOLUTO | ERROR RELATIVO |\n------------------------------------------------------------------------------------------\n| No | V Medido | V aparente | V aparente | Individual |   Individual   |   Individual   |\n------------------------------------------------------------------------------------------\n|  1 |    2.106 |      2.028 |     9.6006 |     0.2172 |         0.2172 |         2.21 % |\n|  2 |    2.101 |      2.023 |     9.6464 |     0.1715 |         0.1715 |         1.75 % |\n|  3 |    2.098 |      2.020 |     9.6740 |     0.1439 |         0.1439 |         1.47 % |\n|  4 |    2.087 |      2.010 |     9.7762 |     0.0416 |         0.0416 |         0.42 % |\n|  5 |    2.073 |      1.996 |     9.9087 |    -0.0909 |         0.0909 |         0.93 % |\n|  6 |    2.070 |      1.993 |     9.9375 |    -0.1196 |         0.1196 |         1.22 % |\n|  7 |    2.064 |      1.987 |     9.9953 |    -0.1775 |         0.1775 |         1.81 % |\n|  8 |    2.059 |      1.983 |    10.0439 |    -0.2261 |         0.2261 |         2.30 % |\n|  9 |    2.057 |      1.981 |    10.0635 |    -0.2456 |         0.2456 |         2.50 % |\n| 10 |    2.052 |      1.976 |    10.1126 |    -0.2947 |         0.2947 |         3.00 % |\n------------------------------------------------------------------------------------------\n| P  |    2.077 |      2.000 |     9.8759 |    -0.0580 |         0.1729 |         1.76 % |\n------------------------------------------------------------------------------------------\n| D  |    0.019 |      0.018 |     0.1782 |     0.1782 |         0.0725 |         0.74 % |\n------------------------------------------------------------------------------------------\nError Absoluto Medio - EAM:               0.1729\nRaíz Porcentual Medio - EPM:              1.76 %\n------------------------------------------------------------------------------------------\n"
     ]
    }
   ],
   "source": [
    "# Error Absoluto\n",
    "er_ga = 100 * ea_ga / g\n",
    "\n",
    "# Media aritmética (Promedio - P)\n",
    "P_er = sum(er_ga) / len(er_ga)\n",
    "\n",
    "# Desviación típica (Desviación - D)\n",
    "D_er = ((1/len(er_ga)) * sum((P_er - er_ga)**2))**(1/2)\n",
    "\n",
    "# Otros Promedios\n",
    "EPM = sum(er_ga) / len(er_ga)\n",
    "\n",
    "# Salida estándar\n",
    "print(f\"------------------------------------------------------------------------------------------\")\n",
    "print(f\"| No |  T [s]   |  To [s]    |   g[m/s²]  | ERROR REAL | ERROR ABSOLUTO | ERROR RELATIVO |\")\n",
    "print(f\"------------------------------------------------------------------------------------------\")\n",
    "print(f\"| No | V Medido | V aparente | V aparente | Individual |   Individual   |   Individual   |\")\n",
    "print(f\"------------------------------------------------------------------------------------------\")\n",
    "for N in range(len(Tr)):\n",
    "    print(f\"| {N+1:2} | {Ti[N]:8.3f} | {To[N]:10.3f} | {ga[N]:10.4f} | {Et_ga[N]:10.4f} | {ea_ga[N]:14.4f} | {er_ga[N]:12.2f} % |\")\n",
    "\n",
    "print(f\"------------------------------------------------------------------------------------------\")\n",
    "print(f\"| P  | {P_Ti:8.3f} | {P_To:10.3f} | {P_ga:10.4f} | {P_Et:10.4f} | {P_ea:14.4f} | {P_er:12.2f} % |\")\n",
    "print(f\"------------------------------------------------------------------------------------------\")\n",
    "print(f\"| D  | {D_Ti:8.3f} | {D_To:10.3f} | {D_ga:10.4f} | {D_Et:10.4f} | {D_ea:14.4f} | {D_er:12.2f} % |\")\n",
    "print(f\"------------------------------------------------------------------------------------------\")\n",
    "print(f\"Error Absoluto Medio - EAM:             {EAM:8.4f}\")\n",
    "print(f\"Raíz Porcentual Medio - EPM:            {EPM:6.2f} %\")\n",
    "print(f\"------------------------------------------------------------------------------------------\")"
   ]
  },
  {
   "cell_type": "markdown",
   "metadata": {},
   "source": [
    "# Incertidumbre\n",
    "---\n",
    "**Incertidumbre:** Es una medida del ajuste o cálculo que debe hacerse de una cantidad con respecto al valor que se supone real de dicha magnitud; esto como una medida que refleje las características ignoradas de la magnitud o los errores cometidos para calcularla. Finalmente, esto significa que un valor aparente se puede representar expresando una cantidad como la suma de un valor confiable sumado a un intervalo de incertidumbre.\n",
    "\n",
    "\\begin{equation*}\n",
    "V_a = \\overline{x} \\pm \\Delta x \\\\\n",
    "\\end{equation*}\n",
    "\n",
    "El valor confiable en algunos casos se puede expresar como el _**valor promedio**_ de la cantidad a representar y la incertidumbre como la _**Desviación típica o estándar**_, que es una medida del ajuste o cálculo de una magnitud con respecto al valor que se supone real de dicha magnitud.\n",
    "\n",
    "\\begin{align}\n",
    "V_a & = \\mu \\pm \\sigma \\\\\n",
    "\\mu & =  \\frac{1}{n} \\sum_{1}^n x_i \\\\\n",
    "\\sigma & = \\sqrt{ \\frac{1}{n} \\sum_{1}^n \\left( \\mu - x_i \\right)^2 } \\\\\n",
    "\\end{align}"
   ]
  },
  {
   "cell_type": "code",
   "execution_count": 5,
   "metadata": {},
   "outputs": [
    {
     "output_type": "stream",
     "name": "stdout",
     "text": [
      "-----------------------------------------------\nValor promedio de T:             1.9996\nIncertidumbre del grupo T:       0.0181\nValor aparente del grupo:        2.0000 ± 0.02\n-----------------------------------------------\nValor promedio de g:             9.8759\nIncertidumbre del grupo g:       0.1782\nValor aparente del grupo:        9.9000 ± 0.2\n-----------------------------------------------\nValor del modelo algebraico:     9.8179\n-----------------------------------------------\n"
     ]
    }
   ],
   "source": [
    "# Valor aparente del periodo\n",
    "μT = sum(To) / len(To)                      # Valor promedio\n",
    "DT = (sum((μT - To)**2) / len(To))**(1/2)   # Valor promedio\n",
    "\n",
    "# Valor aparente de la gravedad\n",
    "μg = P_ga                                   # Valor promedio\n",
    "Dg = (sum((μg - ga)**2) / len(ga))**(1/2)   # Incertidumbre\n",
    "\n",
    "# Una convención aceptada es expresar la incertidumbre en una sola cifra significativa\n",
    "ΔT = _significativas(DT, 1)\n",
    "Δg = _significativas(Dg, 1)\n",
    "\n",
    "# Valores medios normalizados\n",
    "μT_n = _normalizar(μT, ΔT)\n",
    "μg_n = _normalizar(μg, Δg)\n",
    "\n",
    "# Salida estándar\n",
    "print(f\"-----------------------------------------------\")\n",
    "print(f\"Valor promedio de T:           {μT:8.4f}\")\n",
    "print(f\"Incertidumbre del grupo T:     {DT:8.4f}\")\n",
    "print(f\"Valor aparente del grupo:      {μT_n:8.4f} ± {ΔT}\")\n",
    "print(f\"-----------------------------------------------\")\n",
    "print(f\"Valor promedio de g:           {μg:8.4f}\")\n",
    "print(f\"Incertidumbre del grupo g:     {Dg:8.4f}\")\n",
    "print(f\"Valor aparente del grupo:      {μg_n:8.4f} ± {Δg}\")\n",
    "print(f\"-----------------------------------------------\")\n",
    "print(f\"Valor del modelo algebraico:   {g:8.4f}\")\n",
    "print(f\"-----------------------------------------------\")"
   ]
  },
  {
   "cell_type": "markdown",
   "metadata": {
    "colab_type": "text",
    "id": "-Rh3-Vt9Nev9"
   },
   "source": [
    "---\n",
    "## Mas Recursos\n",
    "\n",
    "- [Métodos de redondeo](https://en.wikipedia.org/wiki/Rounding) (Wikipedia)\n",
    "- [Error experimental](https://es.wikipedia.org/wiki/Error_experimental) (Wikipedia)\n",
    "- [Error de aproximación](https://es.wikipedia.org/wiki/Error_de_aproximaci%C3%B3n) (Wikipedia)\n",
    "- [Error absoluto medio](https://es.wikipedia.org/wiki/Error_absoluto_medio) (Wikipedia)\n",
    "\n"
   ]
  }
 ],
 "metadata": {
  "kernelspec": {
   "name": "python3",
   "display_name": "Python 3.8.2 32-bit",
   "metadata": {
    "interpreter": {
     "hash": "dcfa17eba1dc66845e0904f61caf004065b70fa6c516601030b63e53c64813c1"
    }
   }
  },
  "language_info": {
   "codemirror_mode": {
    "name": "ipython",
    "version": 3
   },
   "file_extension": ".py",
   "mimetype": "text/x-python",
   "name": "python",
   "nbconvert_exporter": "python",
   "pygments_lexer": "ipython3",
   "version": "3.8.2-final"
  }
 },
 "nbformat": 4,
 "nbformat_minor": 1
}