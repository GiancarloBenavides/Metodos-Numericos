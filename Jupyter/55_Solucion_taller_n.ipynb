{
 "metadata": {
  "language_info": {
   "codemirror_mode": {
    "name": "ipython",
    "version": 3
   },
   "file_extension": ".py",
   "mimetype": "text/x-python",
   "name": "python",
   "nbconvert_exporter": "python",
   "pygments_lexer": "ipython3",
   "version": "3.8.2-final"
  },
  "orig_nbformat": 2,
  "kernelspec": {
   "name": "python3",
   "display_name": "Python 3.8.2 32-bit",
   "metadata": {
    "interpreter": {
     "hash": "dcfa17eba1dc66845e0904f61caf004065b70fa6c516601030b63e53c64813c1"
    }
   }
  }
 },
 "nbformat": 4,
 "nbformat_minor": 2,
 "cells": [
  {
   "cell_type": "code",
   "execution_count": 1,
   "metadata": {},
   "outputs": [],
   "source": [
    "import math\n",
    "import numpy as np\n",
    "from sympy import *"
   ]
  },
  {
   "cell_type": "code",
   "execution_count": 6,
   "metadata": {},
   "outputs": [
    {
     "output_type": "execute_result",
     "data": {
      "text/plain": [
       "-120.00000000000009"
      ]
     },
     "metadata": {},
     "execution_count": 6
    }
   ],
   "source": [
    " # 2\n",
    " A = [(1, 2, 3), (-6, 5, -4), (7, 8, 9)]\n",
    " b = [10, -18, 14]\n",
    " detA = np.linalg.det(A)\n",
    " detA\n"
   ]
  },
  {
   "cell_type": "code",
   "execution_count": 5,
   "metadata": {},
   "outputs": [
    {
     "output_type": "execute_result",
     "data": {
      "text/plain": [
       "315"
      ]
     },
     "metadata": {},
     "execution_count": 5
    }
   ],
   "source": [
    "# 3\n",
    "p = math.ceil(100*math.pi)\n",
    "p"
   ]
  },
  {
   "cell_type": "code",
   "execution_count": 47,
   "metadata": {},
   "outputs": [
    {
     "output_type": "execute_result",
     "data": {
      "text/plain": [
       "-14.0"
      ]
     },
     "metadata": {},
     "execution_count": 47
    }
   ],
   "source": [
    "# 4\n",
    "A = [(1, 3), (0, 3)]\n",
    "b = [14, 21]\n",
    "x = np.matmul(np.linalg.inv(A), np.transpose(b))\n",
    "x1 = x[0]\n",
    "x2 = x[1]\n",
    "x1 - x2"
   ]
  },
  {
   "cell_type": "code",
   "execution_count": 27,
   "metadata": {},
   "outputs": [
    {
     "output_type": "execute_result",
     "data": {
      "text/plain": [
       "3"
      ]
     },
     "metadata": {},
     "execution_count": 27
    }
   ],
   "source": [
    "# 5\n",
    "Lista = [(0, 1), (2, 3), (4, 5)]\n",
    "Lista[1][1]"
   ]
  },
  {
   "cell_type": "code",
   "execution_count": 29,
   "metadata": {},
   "outputs": [
    {
     "output_type": "execute_result",
     "data": {
      "text/plain": [
       "360.00000000000006"
      ]
     },
     "metadata": {},
     "execution_count": 29
    }
   ],
   "source": [
    "# 6\n",
    "A = [(1, 2, 3, 4), (-8, 7, -6, 5), (2, -4, 6, 8), (7, 5, 3, 1)]\n",
    "m12 = [(-8, -6, 5), (2, 6, 8), (7, 3, 1)]\n",
    "M12 = np.linalg.det(m12)\n",
    "C12 = (-1)**(1+2) * M12\n",
    "C12"
   ]
  },
  {
   "cell_type": "code",
   "execution_count": 39,
   "metadata": {},
   "outputs": [
    {
     "output_type": "stream",
     "name": "stdout",
     "text": [
      "10.000000000000002\n6.000000000000002\n"
     ]
    },
    {
     "output_type": "execute_result",
     "data": {
      "text/plain": [
       "6"
      ]
     },
     "metadata": {},
     "execution_count": 39
    }
   ],
   "source": [
    "# 7\n",
    "A = [(1,  2),  (-3,  4)]\n",
    "b = [14,  18]\n",
    "detA = np.linalg.det(A)\n",
    "M11 = 4\n",
    "Z11 = detA - M11\n",
    "print(detA)\n",
    "print(Z11)\n",
    "math.floor(Z11)"
   ]
  },
  {
   "cell_type": "code",
   "execution_count": 35,
   "metadata": {},
   "outputs": [
    {
     "output_type": "stream",
     "name": "stdout",
     "text": [
      "6.3e-02\n"
     ]
    }
   ],
   "source": [
    "# 8\n",
    "Vr = math.e\n",
    "Va = 2.72\n",
    "er = 100 * abs(Va - Vr)/Vr\n",
    "print(f\"{er:7.1e}\")\n"
   ]
  },
  {
   "cell_type": "code",
   "execution_count": null,
   "metadata": {},
   "outputs": [],
   "source": [
    "# 9\n"
   ]
  }
 ]
}