{
 "metadata": {
  "language_info": {
   "codemirror_mode": {
    "name": "ipython",
    "version": 3
   },
   "file_extension": ".py",
   "mimetype": "text/x-python",
   "name": "python",
   "nbconvert_exporter": "python",
   "pygments_lexer": "ipython3",
   "version": "3.8.2-final"
  },
  "orig_nbformat": 2,
  "kernelspec": {
   "name": "python3",
   "display_name": "Python 3.8.2 32-bit",
   "metadata": {
    "interpreter": {
     "hash": "dcfa17eba1dc66845e0904f61caf004065b70fa6c516601030b63e53c64813c1"
    }
   }
  }
 },
 "nbformat": 4,
 "nbformat_minor": 2,
 "cells": [
  {
   "cell_type": "code",
   "execution_count": 1,
   "metadata": {},
   "outputs": [],
   "source": [
    "import math\n",
    "import numpy as np\n",
    "from sympy import *\n",
    "t, s, k = symbols('t, s, k')"
   ]
  },
  {
   "cell_type": "code",
   "execution_count": 2,
   "metadata": {},
   "outputs": [],
   "source": [
    "# Defino los métodos de suma de rectángulos - izquierda\n",
    "def _Riemman_izq(Func, limA, limB, numI):\n",
    "    \"\"\" Método de la Bisección para encontrar raíces en un intervalo.\n",
    "\n",
    "        ## Parámetros:\n",
    "            Func (function) : función que depende de una variable.\n",
    "            limA (function) : derivada de la función.\n",
    "            limB (int)      : semilla de la solución.\n",
    "            numI (int)      : número máximo de iteraciones.\n",
    "        \n",
    "        ## Devoluciones:\n",
    "            Area (float)       : valor de area encontrado.\n",
    "    \"\"\"\n",
    "    Δx = (limB - limA) / numI\n",
    "    Alturas = 0\n",
    "    for i in range(numI):\n",
    "        Alturas += Func(limA + i * Δx)\n",
    "\n",
    "    Area = Δx * Alturas\n",
    "    return Area\n",
    "\n",
    "# Defino los métodos de suma de rectángulos - izquierda\n",
    "def _Riemman_der(Func, limA, limB, numI):\n",
    "    \"\"\" Método de la Bisección para encontrar raíces en un intervalo.\n",
    "\n",
    "        ## Parámetros:\n",
    "            Func (function) : función que depende de una variable.\n",
    "            limA (function) : derivada de la función.\n",
    "            limB (int)      : semilla de la solución.\n",
    "            numI (int)      : número máximo de iteraciones.\n",
    "        \n",
    "        ## Devoluciones:\n",
    "            Area (float)       : valor de area encontrado.\n",
    "    \"\"\"\n",
    "    Δx = (limB - limA) / numI\n",
    "    Alturas = 0\n",
    "    for i in range(numI):\n",
    "        Alturas += Func(limB - i * Δx)\n",
    "\n",
    "    Area = Δx * Alturas\n",
    "    return Area\n",
    "\n",
    "# Defino los métodos de suma de rectángulos - izquierda\n",
    "def _Riemman_med(Func, limA, limB, numI):\n",
    "    \"\"\" Método de la Bisección para encontrar raíces en un intervalo.\n",
    "\n",
    "        ## Parámetros:\n",
    "            Func (function) : función que depende de una variable.\n",
    "            limA (function) : derivada de la función.\n",
    "            limB (int)      : semilla de la solución.\n",
    "            numI (int)      : número máximo de iteraciones.\n",
    "        \n",
    "        ## Devoluciones:\n",
    "            Area (float)       : valor de area encontrado.\n",
    "    \"\"\"\n",
    "    Δx = (limB - limA) / numI\n",
    "    Alturas = 0\n",
    "    for i in range(numI):\n",
    "        Alturas += Func(limA + (2*i + 1)/2 * Δx)\n",
    "\n",
    "    Area = Δx * Alturas\n",
    "    return Area\n",
    "\n",
    "# Defino el métodos del trapecio\n",
    "def _trapecio(Func, limA, limB, numI):\n",
    "    \"\"\" Método de la Bisección para encontrar raíces en un intervalo.\n",
    "\n",
    "        ## Parámetros:\n",
    "            Func (function) : función que depende de una variable.\n",
    "            limA (function) : derivada de la función.\n",
    "            limB (int)      : semilla de la solución.\n",
    "            numI (int)      : número máximo de iteraciones.\n",
    "        \n",
    "        ## Devoluciones:\n",
    "            Area (float)       : valor de area encontrado.\n",
    "    \"\"\"\n",
    "    Δx = (limB - limA) / numI\n",
    "    Bases = 0\n",
    "    for i in range(numI):\n",
    "        Bases += Func(limA + i * Δx) + Func(limA + Δx + i * Δx)\n",
    "\n",
    "    Area = Δx/2 * Bases\n",
    "    return Area\n",
    "\n",
    "# Defino el métodos de la regla simpson\n",
    "def _simpson(Func, limA, limB, numI):\n",
    "    \"\"\" Método de la Bisección para encontrar raíces en un intervalo.\n",
    "\n",
    "        ## Parámetros:\n",
    "            Func (function) : función que depende de una variable.\n",
    "            limA (function) : derivada de la función.\n",
    "            limB (int)      : semilla de la solución.\n",
    "            numI (int)      : número máximo de iteraciones.\n",
    "        \n",
    "        ## Devoluciones:\n",
    "            Area (float)       : valor de area encontrado.\n",
    "    \"\"\"\n",
    "    Δx = (limB - limA) / numI\n",
    "    Bases = 0\n",
    "    for i in range(numI):\n",
    "        Bases += Func(limA + i * Δx) + 4 * Func(limA + (2*i + 1)/2 * Δx) + Func(limA + Δx + i * Δx)\n",
    "\n",
    "    Area = Δx/6 * Bases\n",
    "    return Area"
   ]
  },
  {
   "cell_type": "code",
   "execution_count": 3,
   "metadata": {},
   "outputs": [
    {
     "output_type": "execute_result",
     "data": {
      "text/plain": [
       "1"
      ]
     },
     "metadata": {},
     "execution_count": 3
    }
   ],
   "source": [
    "# 2\n",
    "una_lista = [[1,2,3,[0,]], [4,5,6,0], [7,8,9,(0,1)]]\n",
    "una_lista[1:][1][3][1]\n"
   ]
  },
  {
   "cell_type": "code",
   "execution_count": 4,
   "metadata": {},
   "outputs": [
    {
     "output_type": "display_data",
     "data": {
      "text/plain": "Integral(s, (s, t, 4))",
      "text/latex": "$\\displaystyle \\int\\limits_{t}^{4} s\\, ds$"
     },
     "metadata": {}
    },
    {
     "output_type": "display_data",
     "data": {
      "text/plain": "8 - t**2/2",
      "text/latex": "$\\displaystyle 8 - \\frac{t^{2}}{2}$"
     },
     "metadata": {}
    },
    {
     "output_type": "display_data",
     "data": {
      "text/plain": "75.0000000000000",
      "text/latex": "$\\displaystyle 75.0$"
     },
     "metadata": {}
    }
   ],
   "source": [
    "# 3\n",
    "A = [(1,  2),  (-3,  4)]\n",
    "b = [14,  18]\n",
    "M11 = 4\n",
    "detA = np.linalg.det(A)\n",
    "Zt = Integral(s, (s, t, M11))\n",
    "funtion_Zt = Zt.doit()\n",
    "Zt1 = detA * funtion_Zt.subs(t, 1)\n",
    "display(Zt, funtion_Zt, Zt1)\n",
    "\n",
    "# math.floor(Z11)"
   ]
  },
  {
   "cell_type": "code",
   "execution_count": 5,
   "metadata": {},
   "outputs": [
    {
     "output_type": "display_data",
     "data": {
      "text/plain": "Eq(Integral(2*t, t), t**2)",
      "text/latex": "$\\displaystyle \\int 2 t\\, dt = t^{2}$"
     },
     "metadata": {}
    },
    {
     "output_type": "display_data",
     "data": {
      "text/plain": "Integral(2*t, (t, 7.0, -7.0))",
      "text/latex": "$\\displaystyle \\int\\limits_{7.0}^{-7.0} 2 t\\, dt$"
     },
     "metadata": {}
    },
    {
     "output_type": "display_data",
     "data": {
      "text/plain": "0",
      "text/latex": "$\\displaystyle 0$"
     },
     "metadata": {}
    }
   ],
   "source": [
    "# 4 \n",
    "A = [(1, 3), (0, 3)]\n",
    "b = [14, 21]\n",
    "x = np.matmul(np.linalg.inv(A), np.transpose(b))\n",
    "x1 = x[0]\n",
    "x2 = x[1]\n",
    "ft = 2*t\n",
    "Ft = Integral(ft, t)\n",
    "Ft_ab = Integral(ft, (t, x2, x1))\n",
    "\n",
    "# Evaluar la integral\n",
    "Rt = Ft.doit()\n",
    "Rt_ab = Ft_ab.doit()\n",
    "display(Eq(Ft, Rt))\n",
    "display(Ft_ab, Rt_ab)\n"
   ]
  },
  {
   "cell_type": "code",
   "execution_count": 6,
   "metadata": {},
   "outputs": [
    {
     "output_type": "stream",
     "name": "stdout",
     "text": [
      "-3150.264595777026\n150.264595777026\n-849.735404222974\n"
     ]
    }
   ],
   "source": [
    "# 5\n",
    "F2 = lambda x: (x**2 + 3)**3\n",
    "Va = _Riemman_der(F2, 4, 0, 7)\n",
    "print(Va)\n",
    "print(-3000 - Va)\n",
    "print(-4000 - Va)"
   ]
  },
  {
   "cell_type": "code",
   "execution_count": 7,
   "metadata": {},
   "outputs": [
    {
     "output_type": "stream",
     "name": "stdout",
     "text": [
      "14.85088\n14.67678\n"
     ]
    }
   ],
   "source": [
    "# 8\n",
    "F4 = lambda k: math.e**(k)/k\n",
    "va_1 = _trapecio(F4, 2, 4, 4)\n",
    "va_2 = _simpson(F4, 2, 4, 4)\n",
    "print(f\"{va_1:7.5f}\")\n",
    "print(f\"{va_2:7.5f}\")\n"
   ]
  },
  {
   "cell_type": "code",
   "execution_count": 8,
   "metadata": {},
   "outputs": [
    {
     "output_type": "stream",
     "name": "stdout",
     "text": [
      "201.214396746367 171.21697785422327 17.5201193643801\n"
     ]
    }
   ],
   "source": [
    "# 9\n",
    "F3 = lambda k: math.e**(2*k)\n",
    "vr = Integral(math.e**(2*k), (k, 0, 3)).doit()\n",
    "va = _Riemman_med(F3, 0, 3, 3)\n",
    "er = 100 * abs(vr-va)/va\n",
    "print(vr, va, er)"
   ]
  }
 ]
}