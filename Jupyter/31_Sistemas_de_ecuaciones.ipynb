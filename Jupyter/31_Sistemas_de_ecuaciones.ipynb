{
 "cells": [
  {
   "cell_type": "markdown",
   "metadata": {},
   "source": [
    "# Solución de ecuaciones\n",
    "<p><code>Python en Jupyter Notebook</code></p>\n",
    "<p>Creado por <code>Giancarlo Ortiz</code> para el curso de <code>Métodos Numéricos</code></p>\n",
    "<style type=\"text/css\">\n",
    "    .border {\n",
    "        display: inline-block;\n",
    "        border: solid 1px rgba(204, 204, 204, 0.4);\n",
    "        border-bottom-color: rgba(187, 187, 187, 0.4);\n",
    "        border-radius: 3px;\n",
    "        box-shadow: inset 0 -1px 0 rgba(187, 187, 187, 0.4);\n",
    "        background-color: inherit !important;\n",
    "        vertical-align: middle;\n",
    "        color: inherit !important;\n",
    "        font-size: 11px;\n",
    "        padding: 3px 5px;\n",
    "        margin: 0 2px;\n",
    "    }\n",
    "</style>\n",
    "\n",
    "## Busqueda de raíces por métodos abiertos\n",
    "Los metodos abiertos, A diferencia de los métodos cerrados, calculan en cada iteración una aproxmación a la raíz, sin necesidad de verificar lo que sucede dentro de un intervalo.\n",
    "\n",
    "## Agenda\n",
    "1. Generalidades\n",
    "1. Método de punto fijo\n",
    "1. Método de Newton Raphson\n",
    "1. Metodo de la secante"
   ]
  },
  {
   "cell_type": "code",
   "execution_count": null,
   "metadata": {},
   "outputs": [],
   "source": [
    "# Importar módulos al cuaderno de jupyter\n",
    "import math as m \n",
    "import numpy as np\n",
    "import pylab as plt"
   ]
  },
  {
   "cell_type": "markdown",
   "metadata": {},
   "source": [
    "## 1. Metodos Abiertos\n",
    "---\n",
    "Los métodos abiertos calculan en cada iteración una aproximación a la raíz, pero no se ocupan de verificar si esta aproximación genera o no un intervalo que contenga una raíz; estos métodos utilizan una fórmula para predecir la raíz. Esta fórmula puede desarollarse como la sustitucion de un punto fijo en cada iteración.\n",
    "\n",
    "## 2. Método de punto fijo\n",
    "---\n",
    "Buscar una raíz de una función a partir de un valor inicial, una tolerancia y un número de iteraciones, para este caso no es necesario tener un intervalo.\n",
    "\n",
    "\n",
    "\n",
    "## 3. Método de Newton-Raphson\n",
    "---\n",
    "En matemáticas, el método de bisección es un algoritmo de búsqueda de raíces que trabaja dividiendo el intervalo a la mitad y seleccionando el subintervalo que tiene la raíz.\n",
    "\n",
    "\\begin{equation*}\n",
    "f(x_1, x_2, ... , x_n) = g(x_1, x_2, ... , x_n) \\\\\n",
    "\\end{equation*}\n",
    "\n",
    "### Ventajas:\n",
    "* Metodo estable, siempre converge.\n",
    "* Útil como aproximación inicial de otros métodos.\n",
    "\n",
    "### Desventajas:\n",
    "* No tiene en cuenta la magnitud de los valores de la función en las aproximaciones calculadas $x_n$, solo tiene en cuenta el signo de $f(x)$.\n",
    "* Método linealmente convergente\n",
    "* Orden de convergencia, $r = 1$.\n",
    "* Tasa de convergencia $\\mu = 0.5$\n"
   ]
  },
  {
   "source": [
    "## 3. Metodo de la Secante\n",
    "---\n",
    "### a. Ecuaciones lineales\n",
    "Un caso particular de las ecuaciones algebraicas sucede cuando solo los dos primeros coeficientes son distintos de cero y la solucion para x es unica y trivial.\n",
    "\n",
    "\\begin{align}\n",
    "a_0 + a_1 x & = 0, \\quad a_1 \\neq 0 \\\\\n",
    "x & = \\frac{-a_0}{a_1} \\\\\n",
    "\\end{align}\n",
    "\n",
    "### b. Ecuaciones cuadraticas\n",
    "Un caso particular de las ecuaciones algebraicas sucede cuando solo los tres primeros coeficientes son distintos de cero y las 2 soluciones para x no son compleja.\n",
    "\n",
    "\\begin{align}\n",
    "a_0 + a_1 x + a_2 x^2 & = 0, \\quad a_1 \\neq 0 \\\\\n",
    "x_1, x_2 & = \\frac{-a_1 \\pm \\sqrt{a_1^2 - 4 a_2 a_0 }}{2 a_2} \\\\\n",
    "\\end{align}"
   ],
   "cell_type": "markdown",
   "metadata": {}
  },
  {
   "cell_type": "markdown",
   "metadata": {
    "colab_type": "text",
    "id": "-Rh3-Vt9Nev9"
   },
   "source": [
    "---\n",
    "## Mas Recursos\n",
    "\n",
    "- [Propagación de errores](https://en.wikipedia.org/wiki/Rounding) (Wikipedia)\n",
    "- [Método iterativo](https://es.wikipedia.org/wiki/M%C3%A9todo_iterativo) (Wikipedia)\n",
    "- [Estabilidad numérica](https://es.wikipedia.org/wiki/Estabilidad_num%C3%A9rica) (Wikipedia)\n",
    "- [Orden de convergencia](https://es.wikipedia.org/wiki/Orden_de_convergencia) (Wikipedia)\n"
   ]
  }
 ],
 "metadata": {
  "kernelspec": {
   "name": "python3",
   "display_name": "Python 3.8.2 32-bit",
   "metadata": {
    "interpreter": {
     "hash": "dcfa17eba1dc66845e0904f61caf004065b70fa6c516601030b63e53c64813c1"
    }
   }
  },
  "language_info": {
   "codemirror_mode": {
    "name": "ipython",
    "version": 3
   },
   "file_extension": ".py",
   "mimetype": "text/x-python",
   "name": "python",
   "nbconvert_exporter": "python",
   "pygments_lexer": "ipython3",
   "version": "3.8.2-final"
  }
 },
 "nbformat": 4,
 "nbformat_minor": 1
}