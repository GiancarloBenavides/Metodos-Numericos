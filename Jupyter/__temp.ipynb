{
 "cells": [
  {
   "cell_type": "markdown",
   "metadata": {},
   "source": [
    "# Integración Numérica\n",
    "<p><code>Python en Jupyter Notebook</code></p>\n",
    "<p>Creado por <code>Giancarlo Ortiz</code> para el curso de <code>Métodos Numéricos</code></p>\n",
    "<style type=\"text/css\">\n",
    "    .border {\n",
    "        display: inline-block;\n",
    "        border: solid 1px rgba(204, 204, 204, 0.4);\n",
    "        border-bottom-color: rgba(187, 187, 187, 0.4);\n",
    "        border-radius: 3px;\n",
    "        box-shadow: inset 0 -1px 0 rgba(187, 187, 187, 0.4);\n",
    "        background-color: inherit !important;\n",
    "        vertical-align: middle;\n",
    "        color: inherit !important;\n",
    "        font-size: 11px;\n",
    "        padding: 3px 5px;\n",
    "        margin: 0 2px;\n",
    "    }\n",
    "</style>\n",
    "\n",
    "## Solución de integrales por análisis numérico\n",
    "la integración numérica constituye una amplia gama de algoritmos para calcular el valor numérico de una integral definida\n",
    "\n",
    "## Agenda\n",
    "1. Generalidades\n",
    "1. Método del punto medio\n",
    "1. Método del trapecio\n",
    "1. Regla Simpson\n"
   ]
  },
  {
   "cell_type": "code",
   "execution_count": 1,
   "metadata": {},
   "outputs": [],
   "source": [
    "# Importar módulos al cuaderno de jupyter\n",
    "import math as m \n",
    "import numpy as np\n",
    "import pylab as plt\n",
    "from sympy import *"
   ]
  },
  {
   "cell_type": "markdown",
   "metadata": {},
   "source": [
    "## 1. Generalidades\n",
    "---\n",
    "En un sistema de coordenadas cartesianas, la integral de una función $\\color{#a78a4d}{f(x)}$ representa el área limitada por la gráfica de la función y el eje de las abscisas $\\color{#a78a4d}{x}$ en un intervalo $\\color{#a78a4d}{(a,b)}$, agregando el signo positivo cuando la función toma valores positivos o está definida por encima del eje $\\color{#a78a4d}{x}$ y agregando el signo negativo cuando la función toma valores negativos o está definida por debajo del eje $\\color{#a78a4d}{x}$.\n",
    "\n",
    "\\begin{equation*}\n",
    "\\tag{1} \\int_{a}^{b} f(x) \\,dx \\\\\n",
    "\\end{equation*}\n",
    "\n",
    "Resolver esta integral consiste en calcular el área total bajo la función $\\color{#a78a4d}{f(x)}$ en un intervalo definido, del [teorema fundamental del calculo](https://es.wikipedia.org/wiki/Teorema_fundamental_del_c%C3%A1lculo) se obtiene la solucion exacta evaluando la función primitiva $\\color{#a78a4d}{F(x)}$ en los limites de la integral definida.\n",
    "\n",
    "\\begin{equation*}\n",
    "\\tag{1} \\int_{a}^{b} f(x) \\,dx = F(b) - F(a) \\\\\n",
    "\\end{equation*}\n",
    "\n",
    "\n",
    "    Prueba:\n",
    "\n",
    "\\begin{equation}\n",
    "\\begin{split}\n",
    "A & = \\frac{\\pi r^2}{2} \\\\\n",
    " & = \\frac{1}{2} \\pi r^2\n",
    "\\end{split}\n",
    "\\end{equation}\n",
    "\n",
    "\\begin{align*} \n",
    "2x - 5y &=  8 \\\\ \n",
    "3x + 9y &=  -12\n",
    "\\end{align*}\n",
    "\n",
    "\\begin{align*}\n",
    "x&=y           &  w &=z              &  a&=b+c\\\\\n",
    "2x&=-y         &  3w&=\\frac{1}{2}z   &  a&=b\\\\\n",
    "-4 + 5x&=2+y   &  w+2&=-1+w          &  ab&=cb\n",
    "\\end{align*}\n",
    "\n",
    "\n",
    "| $\\tag{Texto}$ | $\\tag{Formula}$ |\n",
    "| ------------: | :-------------- |\n",
    "|                             | $\\tag{1} y - f(a) = \\frac{ f(b)-f(a) }{ b-a } \\left( x - a \\right)$ |\n",
    "| Despejando de $x$ que es uno| $\\tag{2} y - f(a) = \\frac{ f(b)-f(a) }{ b-a } \\left( x - a \\right)$ |\n",
    "\n",
    "    Definitivo:\n",
    "\n"
   ]
  },
  {
   "source": [
    "\n",
    "<p align=\"center\">\n",
    "  <img width=\"400\" src=\"img/gaussian_function.png\">\n",
    "</p>\n"
   ],
   "cell_type": "markdown",
   "metadata": {}
  },
  {
   "cell_type": "markdown",
   "metadata": {
    "colab_type": "text",
    "id": "-Rh3-Vt9Nev9"
   },
   "source": [
    "---\n",
    "## Mas Recursos\n",
    "\n",
    "- [Integración numérica](https://es.wikipedia.org/wiki/Integraci%C3%B3n_num%C3%A9rica) (Wikipedia)\n",
    "- [Suma de Riemann](https://es.wikipedia.org/wiki/Suma_de_Riemann) (Wikipedia)\n",
    "- [Regla del trapecio](https://es.wikipedia.org/wiki/Regla_del_trapecio) (Wikipedia)\n",
    "- [Regla de Simpson](https://es.wikipedia.org/wiki/Regla_de_Simpson) (Wikipedia)\n",
    "\n"
   ]
  }
 ],
 "metadata": {
  "kernelspec": {
   "name": "python3",
   "display_name": "Python 3.8.2 32-bit",
   "metadata": {
    "interpreter": {
     "hash": "dcfa17eba1dc66845e0904f61caf004065b70fa6c516601030b63e53c64813c1"
    }
   }
  },
  "language_info": {
   "codemirror_mode": {
    "name": "ipython",
    "version": 3
   },
   "file_extension": ".py",
   "mimetype": "text/x-python",
   "name": "python",
   "nbconvert_exporter": "python",
   "pygments_lexer": "ipython3",
   "version": "3.8.2-final"
  }
 },
 "nbformat": 4,
 "nbformat_minor": 1
}