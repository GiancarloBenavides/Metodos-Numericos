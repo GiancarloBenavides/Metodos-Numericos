{
 "cells": [
  {
   "cell_type": "markdown",
   "metadata": {},
   "source": [
    "# Solución de ecuaciones\n",
    "<p><code>Python en Jupyter Notebook</code></p>\n",
    "<p>Creado por <code>Giancarlo Ortiz</code> para el curso de <code>Métodos Numéricos</code></p>\n",
    "<style type=\"text/css\">\n",
    "    .border {\n",
    "        display: inline-block;\n",
    "        border: solid 1px rgba(204, 204, 204, 0.4);\n",
    "        border-bottom-color: rgba(187, 187, 187, 0.4);\n",
    "        border-radius: 3px;\n",
    "        box-shadow: inset 0 -1px 0 rgba(187, 187, 187, 0.4);\n",
    "        background-color: inherit !important;\n",
    "        vertical-align: middle;\n",
    "        color: inherit !important;\n",
    "        font-size: 11px;\n",
    "        padding: 3px 5px;\n",
    "        margin: 0 2px;\n",
    "    }\n",
    "</style>\n",
    "\n",
    "## Búsqueda de raíces por métodos abiertos\n",
    "Los métodos abiertos, a diferencia de los métodos cerrados, calculan en cada iteración una aproximación a la raíz partiendo de un valor inicial y una función auxiliar, sin necesidad de verificar lo que sucede dentro de un intervalo.\n",
    "\n",
    "## Agenda\n",
    "1. Generalidades\n",
    "1. Método de punto fijo\n",
    "1. Método de Newton Raphson\n",
    "1. Método de la secante"
   ]
  },
  {
   "cell_type": "code",
   "execution_count": 1,
   "metadata": {},
   "outputs": [],
   "source": [
    "# Importar módulos al cuaderno de jupyter\n",
    "import math as m \n",
    "import numpy as np\n",
    "import pylab as plt\n",
    "\n",
    "# Definir e incluir nuevas funciones al cuaderno\n",
    "def _buscar_intervalos(fun, ini, fin):\n",
    "    \"\"\" Método para buscar intervalos en los que ocurra cambio de signo.\n",
    "\n",
    "        ## Parámetros:\n",
    "            fun (function): función para analizar.\n",
    "            ini (int): inicio del análisis.\n",
    "            fin (int): limite final del análisis.\n",
    "        \n",
    "        ## Devoluciones:\n",
    "            I (list): Lista de tuplas con los intervalos donde hay un cero.\n",
    "    \"\"\"\n",
    "    i = ini - 1 # Variable para contar iteraciones\n",
    "    I = []      # Variable para almacenar los intervalos\n",
    "    \n",
    "    while i < fin:\n",
    "        i += 1\n",
    "        if fun(i) == 0:\n",
    "            I.append((i, i))\n",
    "        elif fun(i) * fun(i+1) < 0:\n",
    "            I.append((i, i+1))\n",
    "        else:\n",
    "            pass\n",
    "    return I\n",
    "\n",
    "def _imprimir_paso(paso):\n",
    "    Iteraciones = len(paso[0])\n",
    "    Tb = f\"| I # | {'Xi':>8} | {'Error Abs':>9} | {'F(Xi)':>9} |\\n\"\n",
    "    Tb += \"------------------------------------------\\n\" \n",
    "    for i in range(Iteraciones):\n",
    "        xi = paso[0][i]\n",
    "        eai = paso[1][i]\n",
    "        yi = paso[2][i]\n",
    "        Tb += f\"| {i+1:3} | {xi:8.5f} | {eai:9.5f} | {yi:9.5f} |\\n\"\n",
    "    \n",
    "    return print(Tb)\n"
   ]
  },
  {
   "cell_type": "markdown",
   "metadata": {},
   "source": [
    "## 1. Métodos Abiertos\n",
    "---\n",
    "Los métodos abiertos calculan en cada iteración una aproximación a la raíz partiendo de un valor inicial y una función auxiliar, pero no se ocupan de verificar si esta aproximación genera o no un intervalo que contenga una raíz; como consecuencia de ello en estos métodos no hay garantía de la convergencia.\n",
    "\n",
    "La función auxiliar usada para predecir la raíz es una fórmula puede desarrollarse como la sustitución de un punto fijo en cada iteración y el valor inicial que se sustituye en la función auxiliar se conoce como semilla.\n",
    "\n",
    "> **NOTA:** Nótese que para estos métodos no es necesario tener un intervalo, solo es necesaria la semilla, el máximo de iteraciones y la tolerancia aceptada.\n",
    "\n",
    "## 2. Método de punto fijo\n",
    "---\n",
    "Es el primero y más sencillo de los métodos abiertos y se basa en la definición de un punto fijo de forma que para buscar la raíz de una ecuación $\\color{#a78a4d}{f(x)=0}$, se genera una función auxiliar de punto fijo $\\color{#a78a4d}{x=g(x)}$ y se calcula secuencialmente el valor $\\color{#a78a4d}{x}$ de la función partiendo de la semilla $\\color{#a78a4d}{x_o}$ introducida al inicio, buscando que en cada iteración el valor de $\\color{#a78a4d}{x}$ se acerque al valor de la raíz; continuando hasta que se reduzca el nivel de error a un nivel aceptable, según la tolerancia; o hasta que se supere el número máximo de iteraciones.\n",
    "\n",
    "> **PUNTO FIJO:** un punto fijo de una función $f(x)$ es un número real p tal que $p = f(p)$\n",
    "\n",
    "<p align=\"center\">\n",
    "  <img height=\"200\" src=\"img/algorithm_open_a.png\">\n",
    "</p>\n",
    "\n",
    "\\begin{align}\n",
    "\\tag{1} f(x) &= 0 \\\\\n",
    "\\tag{2} f(x) + x &= x \\\\\n",
    "\\tag{3} g(x) &= x \\\\\n",
    "\\tag{4} x_n &= g(x_{n-1}) \\\\\n",
    "\\end{align}\n",
    "\n",
    "### Ventajas:\n",
    "* En algunos casos puede converger más rápidamente que los métodos cerrados.\n",
    "* Útil para entender el funcionamiento de los métodos abiertos.\n",
    "\n",
    "### Desventajas:\n",
    "* El método no siempre converge."
   ]
  },
  {
   "cell_type": "code",
   "execution_count": 2,
   "metadata": {},
   "outputs": [],
   "source": [
    "# Defino el método del punto fijo\n",
    "def _fijo(Func, SemX, Imax, Tmax):\n",
    "    \"\"\" Método de la Bisección para encontrar raíces en un intervalo.\n",
    "\n",
    "        ## Parámetros:\n",
    "            Func (int): función que depende de una variable.\n",
    "            SemX (int): Semilla de la solución.\n",
    "            Imax (int): número máximo de iteraciones.\n",
    "            Tmax (int): exponente de tolerancia máxima, T = 1e^Tmax.\n",
    "        \n",
    "        ## Devoluciones:\n",
    "            Km (float): valor de x encontrado.\n",
    "            No (int)  : iteraciones.\n",
    "            ea (float): error absoluto final\n",
    "            Li (list): lista de las soluciones, los errores absolutos y la tabla con la evoluvión de iteraciones.\n",
    "    \"\"\"\n",
    "    def g(x):\n",
    "        y = Func(x) + x\n",
    "        return y\n",
    "    \n",
    "    xo = SemX\n",
    "    x = []\n",
    "    ea = []\n",
    "    y = []\n",
    "    for i in range(Imax):\n",
    "        xi = g(xo)\n",
    "        yi = Func(xi)\n",
    "        eai = abs((xi - g(xi))/xi)\n",
    "        x.append(xi)\n",
    "        ea.append(eai)\n",
    "        y.append(yi)\n",
    "        if eai < (10**Tmax): break\n",
    "        xo = xi\n",
    "\n",
    "    # Salida del método Xm, No, ea, [S, E, Tb]\n",
    "    return i, xi, eai, [x, ea, y]\n"
   ]
  },
  {
   "source": [
    "## 3. Método de Newton-Raphson\n",
    "---\n",
    "En matemáticas, el método de Newton-Raphson es una variante del método del punto fijo, en este caso la función auxiliar se define de tal forma que linealice la función en las cercanías del valor semilla $\\color{#a78a4d}{x_o}$, y sucesivamente calcular el corte dicha recta como un nuevo valor de $\\color{#a78a4d}{x}$.\n",
    "\n",
    "<p align=\"center\">\n",
    "  <img height=\"200\" src=\"img/algorithm_open_b.png\">\n",
    "</p>\n",
    "\n",
    "\\begin{align}\n",
    "\\tag{1} g(x) &= x - \\frac{f(x)}{f(x)} \\\\\n",
    "\\tag{2} x_n &= x_{n-1} - \\frac{f^{\\prime}(x_{n-1})}{f(x_{n-1})} \\\\\n",
    "\\end{align}\n",
    "\n",
    "### Ventajas:\n",
    "* Muy eficiente cuando la ecuación no posee múltiples puntos de inflexión o pendientes prolongadas alrededor de la raíz.\n",
    "* Útil como aproximación inicial de otros métodos.\n",
    "\n",
    "### Desventajas:\n",
    "* El método no siempre converge.\n",
    "* Es útil definir un valor cercano de la raíz, para evitar puntos criticos en la cercania de la solución.\n"
   ],
   "cell_type": "markdown",
   "metadata": {}
  },
  {
   "cell_type": "code",
   "execution_count": 3,
   "metadata": {},
   "outputs": [],
   "source": [
    "# Defino el método Newton-Raphson\n",
    "def _newton(Func, Xmin, Xmax, Imax, Tmax):\n",
    "    \"\"\" Método de la Bisección para encontrar raíces en un intervalo.\n",
    "\n",
    "        ## Parámetros:\n",
    "            Func (int): función que depende de una variable.\n",
    "            Xmin (int): limite inferior de intervalo.\n",
    "            Xmax (int): limite superior de intervalo.\n",
    "            Imax (int): número máximo de iteraciones.\n",
    "            Tmax (int): exponente de tolerancia máxima, T = 1e^Tmax.\n",
    "        \n",
    "        ## Devoluciones:\n",
    "            Km (float): valor de x encontrado.\n",
    "            No (int)  : iteraciones.\n",
    "            ea (float): error absoluto final\n",
    "            Li (list): lista de las soluciones, los errores absolutos y la tabla con la evoluvión de iteraciones.\n",
    "    \"\"\"\n",
    "    "
   ]
  },
  {
   "cell_type": "code",
   "execution_count": 4,
   "metadata": {},
   "outputs": [
    {
     "output_type": "stream",
     "name": "stdout",
     "text": [
      "| I # |       Xi | Error Abs |     F(Xi) |\n------------------------------------------\n|   1 |  0.76484 |   0.05668 |  -0.04335 |\n|   2 |  0.72149 |   0.04065 |   0.02933 |\n|   3 |  0.75082 |   0.02623 |  -0.01969 |\n|   4 |  0.73113 |   0.01818 |   0.01329 |\n|   5 |  0.74442 |   0.01201 |  -0.00894 |\n|   6 |  0.73548 |   0.00820 |   0.00603 |\n|   7 |  0.74151 |   0.00547 |  -0.00406 |\n|   8 |  0.73745 |   0.00371 |   0.00273 |\n|   9 |  0.74019 |   0.00249 |  -0.00184 |\n|  10 |  0.73834 |   0.00168 |   0.00124 |\n|  11 |  0.73958 |   0.00113 |  -0.00084 |\n|  12 |  0.73875 |   0.00076 |   0.00056 |\n|  13 |  0.73931 |   0.00051 |  -0.00038 |\n|  14 |  0.73893 |   0.00035 |   0.00026 |\n|  15 |  0.73919 |   0.00023 |  -0.00017 |\n|  16 |  0.73902 |   0.00016 |   0.00012 |\n|  17 |  0.73913 |   0.00011 |  -0.00008 |\n|  18 |  0.73905 |   0.00007 |   0.00005 |\n\n"
     ]
    }
   ],
   "source": [
    "# Ecuación de la altura para el movimiento parabólico\n",
    "def altura(θ, Vo, ho, t):\n",
    "    g = 9.8179\n",
    "    Voy = Vo * np.sin(θ*np.pi/180)\n",
    "    y = -(1/2) * g * t**2 + Voy * t + ho\n",
    "    return y\n",
    "\n",
    "# Renombrar la función\n",
    "# F = lambda t: altura(45, 12, 3, t) \n",
    "F = lambda x: np.cos(x) - x\n",
    "\n",
    "n1, x1, ea1, paso1  = _fijo(F, 0.7, 50, -4)\n",
    "_imprimir_paso(paso1)"
   ]
  },
  {
   "source": [
    "## 4. Metodo de la Secante\n",
    "---\n",
    "Un caso particular de las ecuaciones algebraicas sucede cuando solo los dos primeros coeficientes son distintos de cero y la solucion para x es unica y trivial.\n",
    "\n",
    "\\begin{align}\n",
    "a_0 + a_1 x & = 0, \\quad a_1 \\neq 0 \\\\\n",
    "x & = \\frac{-a_0}{a_1} \\\\\n",
    "\\end{align}\n"
   ],
   "cell_type": "markdown",
   "metadata": {}
  },
  {
   "cell_type": "code",
   "execution_count": 5,
   "metadata": {},
   "outputs": [],
   "source": [
    "# Defino el método iterativo de la Secante\n",
    "def _secante(Func, Xmin, Xmax, Imax, Tmax):\n",
    "    \"\"\" Método de la Bisección para encontrar raíces en un intervalo.\n",
    "\n",
    "        ## Parámetros:\n",
    "            Func (int): función que depende de una variable.\n",
    "            Xmin (int): limite inferior de intervalo.\n",
    "            Xmax (int): limite superior de intervalo.\n",
    "            Imax (int): número máximo de iteraciones.\n",
    "            Tmax (int): exponente de tolerancia máxima, T = 1e^Tmax.\n",
    "        \n",
    "        ## Devoluciones:\n",
    "            Km (float): valor de x encontrado.\n",
    "            No (int)  : iteraciones.\n",
    "            ea (float): error absoluto final\n",
    "            Li (list): lista de las soluciones, los errores absolutos y la tabla con la evoluvión de iteraciones.\n",
    "    \"\"\""
   ]
  },
  {
   "cell_type": "markdown",
   "metadata": {
    "colab_type": "text",
    "id": "-Rh3-Vt9Nev9"
   },
   "source": [
    "---\n",
    "## Mas Recursos\n",
    "\n",
    "- [Propagación de errores](https://en.wikipedia.org/wiki/Rounding) (Wikipedia)\n",
    "- [Método iterativo](https://es.wikipedia.org/wiki/M%C3%A9todo_iterativo) (Wikipedia)\n",
    "- [Estabilidad numérica](https://es.wikipedia.org/wiki/Estabilidad_num%C3%A9rica) (Wikipedia)\n",
    "- [Orden de convergencia](https://es.wikipedia.org/wiki/Orden_de_convergencia) (Wikipedia)\n"
   ]
  }
 ],
 "metadata": {
  "kernelspec": {
   "name": "python3",
   "display_name": "Python 3.8.2 32-bit",
   "metadata": {
    "interpreter": {
     "hash": "dcfa17eba1dc66845e0904f61caf004065b70fa6c516601030b63e53c64813c1"
    }
   }
  },
  "language_info": {
   "codemirror_mode": {
    "name": "ipython",
    "version": 3
   },
   "file_extension": ".py",
   "mimetype": "text/x-python",
   "name": "python",
   "nbconvert_exporter": "python",
   "pygments_lexer": "ipython3",
   "version": "3.8.2-final"
  }
 },
 "nbformat": 4,
 "nbformat_minor": 1
}