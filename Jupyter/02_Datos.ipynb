{
 "cells": [
  {
   "cell_type": "markdown",
   "metadata": {},
   "source": [
    "# Teoría del Error\n",
    "<p><code>Python en Jupyter Notebook</code></p>\n",
    "<p>Creado por <code>Giancarlo Ortiz</code> para el curso de <code>Métodos Numéricos</code></p>\n",
    "<style type=\"text/css\">\n",
    "    .formula {\n",
    "        background: #f7f7f7;\n",
    "        border-radius: 50px;\n",
    "        padding: 15px;\n",
    "    }\n",
    "    .border {\n",
    "        display: inline-block;\n",
    "        border: solid 1px rgba(204, 204, 204, 0.4);\n",
    "        border-bottom-color: rgba(187, 187, 187, 0.4);\n",
    "        border-radius: 3px;\n",
    "        box-shadow: inset 0 -1px 0 rgba(187, 187, 187, 0.4);\n",
    "        background-color: inherit !important;\n",
    "        vertical-align: middle;\n",
    "        color: inherit !important;\n",
    "        font-size: 11px;\n",
    "        padding: 3px 5px;\n",
    "        margin: 0 2px;\n",
    "    }\n",
    "</style>\n",
    "\n",
    "\n",
    "## Datos y Variables \n",
    "Una variable se utiliza para designar una cantidad susceptible de tomar distintos valores numéricos dentro de un conjunto de números especificado.\n",
    "\n",
    "## Agenda\n",
    "1. Variables\n",
    "1. Operaciones\n",
    "1. Modelos"
   ]
  },
  {
   "cell_type": "code",
   "execution_count": 1,
   "metadata": {},
   "outputs": [],
   "source": [
    "# Importando librerias del cuaderno de jupyter\n",
    "import math as m \n",
    "import numpy as np\n",
    "import pylab as plt\n",
    "import statistics as st"
   ]
  },
  {
   "cell_type": "code",
   "execution_count": null,
   "metadata": {},
   "outputs": [],
   "source": []
  },
  {
   "source": [
    "## 1. Variables\n",
    "---\n",
    "En matemáticas, estadística y ciencias experimentales, suele hacerse la distinción entre variables independientes y variables dependientes; siendo la variable independiente aquella que toma cualquier valor en el conjunto de partida, modificando el valor de las variables dependientes en el conjunto de salida. En la ecuación <code>y</code> representa la variable dependiente y las <code>x</code> las variables independientes.\n",
    "\n",
    "\\begin{equation*}\n",
    "y = f(x_1, x_2, ... , x_n) \\\\\n",
    "\\end{equation*}\n",
    "\n",
    "## 2. Operaciones\n",
    "---\n",
    "Para ampliar o transformar la información observada directamente, se obtienen indirectamente otras cantidades operando sobre los datos obtenidos por medida directa; Esto es que dados <code>n</code> valores obtenidos directamente $ \\left\\{x_1, x_2, ... , x_n \\right\\}$ algunas de las cantidades indirectas más comunes son:\n",
    "\n",
    "* _Media Aritmética:_ En Matemáticas, la madia o promedio \\[_μ_\\], se obtiene a partir de la suma de todos sus valores en un conjunto dividida entre el número de sumandos.\n",
    "\n",
    "\\begin{align}\n",
    "\\mu & =  \\frac{1}{n} \\sum_{1}^n x_i \\\\\n",
    "\\end{align}\n",
    "\n",
    "* _Varianza:_ En probabilidad, la varianza \\[_σ²_\\] de una variable aleatoria, es una medida de dispersión de un conjunto de datos y se expresa como la suma de los cuadrados de la diferencia de cada valor del promedio.\n",
    "\n",
    "\\begin{align}\n",
    "\\sigma^2 & = \\frac{1}{n} \\sum_{1}^n \\left( \\mu - x_i \\right)^2 \\\\\n",
    "\\end{align}\n",
    "\n",
    "* _Desviación estándar:_ En estadística, la desviación típica \\[_σ_\\], es una medida que se utiliza para cuantificar la variación o la dispersión de un conjunto de datos numéricos.\n",
    "\n",
    "\\begin{align}\n",
    "\\sigma & = \\sqrt{ \\frac{1}{n} \\sum_{1}^n \\left( \\mu - x_i \\right)^2 } \\\\\n",
    "\\end{align}\n",
    "\n",
    ">**NOTA:** Es importante resaltar que las medidas de varianza y desviación típica \\[_σ²,σ_\\] definidas para una población difieren de los valores de varianza y desviación muestral \\[_s²,s_\\] calculados para una muestra de esa población.\n"
   ],
   "cell_type": "markdown",
   "metadata": {}
  },
  {
   "cell_type": "code",
   "execution_count": 2,
   "metadata": {},
   "outputs": [
    {
     "output_type": "stream",
     "name": "stdout",
     "text": [
      "--------------------------------------\n Número de Valores:    10\n--------------------------------------\n Valor Minimo:         2.0520\n Valor Maximo:         2.1060\n--------------------------------------\n| MEDIDA     |    NUMPY | STATISTICS |\n--------------------------------------\n| Promedio   | 2.076700 |   2.076700 |\n| Varianza   | 0.000354 |   0.000393 |\n| Desviación | 0.018815 |   0.019833 |\n--------------------------------------\n"
     ]
    }
   ],
   "source": [
    "# Sea Trun grupo de 10 Medidas directas, calcular:\n",
    "Tr = [2.106, 2.101, 2.098, 2.087, 2.073, 2.070, 2.064, 2.059, 2.057, 2.052]\n",
    "\n",
    "# Conversión (Casting) de la variable, de lista a un array de NumPy \n",
    "T = np.array(Tr)\n",
    "\n",
    "# Media aritmética (Promedio - μ)\n",
    "μ_1_T = sum(T) / len(T)\n",
    "μ_2_T = st.mean(T)\n",
    "\n",
    "# Varianza (Variancia - σ²)\n",
    "σ2_1_T = (1 / len(T)) * sum((μ_1_T - T)**2)\n",
    "σ2_2_T = st.variance(T)\n",
    "\n",
    "# Desviación tipica (desviacion - σ)\n",
    "σ_1_T = m.sqrt((1 / len(T)) * sum((μ_1_T - T)**2))\n",
    "σ_2_T = st.stdev(T)\n",
    "\n",
    "\n",
    "# Salida estándar\n",
    "print(f\"--------------------------------------\")\n",
    "print(f\" Número de Valores:  {len(T):4.0f}\")\n",
    "print(f\"--------------------------------------\")\n",
    "print(f\" Valor Minimo:       {min(T):8.4f}\")\n",
    "print(f\" Valor Maximo:       {max(T):8.4f}\")\n",
    "print(f\"--------------------------------------\")\n",
    "print(f\"| MEDIDA     |    NUMPY | STATISTICS |\")\n",
    "print(f\"--------------------------------------\")\n",
    "print(f\"| Promedio   | {μ_1_T:8.6f} | {μ_2_T:10.6f} |\")\n",
    "print(f\"| Varianza   | {σ2_1_T:8.6f} | {σ2_2_T:10.6f} |\")\n",
    "print(f\"| Desviación | {σ_1_T:8.6f} | {σ_2_T:10.6f} |\")\n",
    "print(f\"--------------------------------------\")\n"
   ]
  },
  {
   "source": [
    "## 3. Modelos\n",
    "---\n",
    "* _Modelos Matemáticos:_ En ellos, se estudia el cambio de la variable dependiente a medida que cambian las variables independientes.\n",
    "* _Modelos de Simulación:_ En ellos, la variable dependiente se modifica en respuesta a los cambios en las variables independientes.\n",
    "\n",
    "![attenuation](img/model.png)"
   ],
   "cell_type": "markdown",
   "metadata": {}
  },
  {
   "cell_type": "markdown",
   "metadata": {
    "colab_type": "text",
    "id": "-Rh3-Vt9Nev9"
   },
   "source": [
    "---\n",
    "## Mas Recursos\n",
    "\n",
    "- [Variable](https://es.wikipedia.org/wiki/Variable_(matem%C3%A1ticas)) (Wikipedia)\n",
    "- [Media aritmética](https://es.wikipedia.org/wiki/Media_aritm%C3%A9tica) (Wikipedia)\n",
    "- [Varianza](https://es.wikipedia.org/wiki/Varianza) (Wikipedia)\n",
    "- [Desviación típica](https://es.wikipedia.org/wiki/Desviaci%C3%B3n_t%C3%ADpica) (Wikipedia)\n",
    "\n"
   ]
  }
 ],
 "metadata": {
  "kernelspec": {
   "name": "python3",
   "display_name": "Python 3.8.2 32-bit",
   "metadata": {
    "interpreter": {
     "hash": "dcfa17eba1dc66845e0904f61caf004065b70fa6c516601030b63e53c64813c1"
    }
   }
  },
  "language_info": {
   "codemirror_mode": {
    "name": "ipython",
    "version": 3
   },
   "file_extension": ".py",
   "mimetype": "text/x-python",
   "name": "python",
   "nbconvert_exporter": "python",
   "pygments_lexer": "ipython3",
   "version": "3.8.2-final"
  }
 },
 "nbformat": 4,
 "nbformat_minor": 1
}