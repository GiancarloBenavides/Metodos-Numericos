{
 "metadata": {
  "language_info": {
   "codemirror_mode": {
    "name": "ipython",
    "version": 3
   },
   "file_extension": ".py",
   "mimetype": "text/x-python",
   "name": "python",
   "nbconvert_exporter": "python",
   "pygments_lexer": "ipython3",
   "version": "3.8.2-final"
  },
  "orig_nbformat": 2,
  "kernelspec": {
   "name": "python3",
   "display_name": "Python 3.8.2 32-bit",
   "metadata": {
    "interpreter": {
     "hash": "dcfa17eba1dc66845e0904f61caf004065b70fa6c516601030b63e53c64813c1"
    }
   }
  }
 },
 "nbformat": 4,
 "nbformat_minor": 2,
 "cells": [
  {
   "cell_type": "code",
   "execution_count": 10,
   "metadata": {},
   "outputs": [],
   "source": [
    "import math\n",
    "import numpy as np\n",
    "from sympy import *\n",
    "t, s, k = symbols('t, s, k')"
   ]
  },
  {
   "cell_type": "code",
   "execution_count": 2,
   "metadata": {},
   "outputs": [],
   "source": [
    "# Defino los métodos de suma de rectángulos - izquierda\n",
    "def _Riemman_izq(Func, limA, limB, numI):\n",
    "    \"\"\" Método de la Bisección para encontrar raíces en un intervalo.\n",
    "\n",
    "        ## Parámetros:\n",
    "            Func (function) : función que depende de una variable.\n",
    "            limA (function) : derivada de la función.\n",
    "            limB (int)      : semilla de la solución.\n",
    "            numI (int)      : número máximo de iteraciones.\n",
    "        \n",
    "        ## Devoluciones:\n",
    "            Area (float)       : valor de area encontrado.\n",
    "    \"\"\"\n",
    "    Δx = (limB - limA) / numI\n",
    "    Alturas = 0\n",
    "    for i in range(numI):\n",
    "        Alturas += Func(limA + i * Δx)\n",
    "\n",
    "    Area = Δx * Alturas\n",
    "    return Area\n",
    "\n",
    "# Defino los métodos de suma de rectángulos - izquierda\n",
    "def _Riemman_der(Func, limA, limB, numI):\n",
    "    \"\"\" Método de la Bisección para encontrar raíces en un intervalo.\n",
    "\n",
    "        ## Parámetros:\n",
    "            Func (function) : función que depende de una variable.\n",
    "            limA (function) : derivada de la función.\n",
    "            limB (int)      : semilla de la solución.\n",
    "            numI (int)      : número máximo de iteraciones.\n",
    "        \n",
    "        ## Devoluciones:\n",
    "            Area (float)       : valor de area encontrado.\n",
    "    \"\"\"\n",
    "    Δx = (limB - limA) / numI\n",
    "    Alturas = 0\n",
    "    for i in range(numI):\n",
    "        Alturas += Func(limB - i * Δx)\n",
    "\n",
    "    Area = Δx * Alturas\n",
    "    return Area\n",
    "\n",
    "# Defino los métodos de suma de rectángulos - izquierda\n",
    "def _Riemman_med(Func, limA, limB, numI):\n",
    "    \"\"\" Método de la Bisección para encontrar raíces en un intervalo.\n",
    "\n",
    "        ## Parámetros:\n",
    "            Func (function) : función que depende de una variable.\n",
    "            limA (function) : derivada de la función.\n",
    "            limB (int)      : semilla de la solución.\n",
    "            numI (int)      : número máximo de iteraciones.\n",
    "        \n",
    "        ## Devoluciones:\n",
    "            Area (float)       : valor de area encontrado.\n",
    "    \"\"\"\n",
    "    Δx = (limB - limA) / numI\n",
    "    Alturas = 0\n",
    "    for i in range(numI):\n",
    "        Alturas += Func(limA + (2*i + 1)/2 * Δx)\n",
    "\n",
    "    Area = Δx * Alturas\n",
    "    return Area"
   ]
  },
  {
   "cell_type": "code",
   "execution_count": 3,
   "metadata": {},
   "outputs": [
    {
     "output_type": "display_data",
     "data": {
      "text/plain": "Eq(Integral(2*t, t), t**2)",
      "text/latex": "$\\displaystyle \\int 2 t\\, dt = t^{2}$"
     },
     "metadata": {}
    },
    {
     "output_type": "display_data",
     "data": {
      "text/plain": "Integral(2*t, (t, -7.0, 7.0))",
      "text/latex": "$\\displaystyle \\int\\limits_{-7.0}^{7.0} 2 t\\, dt$"
     },
     "metadata": {}
    },
    {
     "output_type": "display_data",
     "data": {
      "text/plain": "0",
      "text/latex": "$\\displaystyle 0$"
     },
     "metadata": {}
    }
   ],
   "source": [
    "# 1\n",
    "A = [(1, 3), (0, 3)]\n",
    "b = [14, 21]\n",
    "x = np.matmul(np.linalg.inv(A), np.transpose(b))\n",
    "x1 = x[0]\n",
    "x2 = x[1]\n",
    "ft = 2*t\n",
    "Ft = Integral(ft, t)\n",
    "Ft_ab = Integral(ft, (t, x1, x2))\n",
    "\n",
    "# Evaluar la integral\n",
    "Rt = Ft.doit()\n",
    "Rt_ab = Ft_ab.doit()\n",
    "display(Eq(Ft, Rt))\n",
    "display(Ft_ab, Rt_ab)\n"
   ]
  },
  {
   "cell_type": "code",
   "execution_count": 4,
   "metadata": {},
   "outputs": [
    {
     "output_type": "display_data",
     "data": {
      "text/plain": "Integral(s, (s, t, 4))",
      "text/latex": "$\\displaystyle \\int\\limits_{t}^{4} s\\, ds$"
     },
     "metadata": {}
    },
    {
     "output_type": "display_data",
     "data": {
      "text/plain": "8 - t**2/2",
      "text/latex": "$\\displaystyle 8 - \\frac{t^{2}}{2}$"
     },
     "metadata": {}
    },
    {
     "output_type": "display_data",
     "data": {
      "text/plain": "75.0000000000000",
      "text/latex": "$\\displaystyle 75.0$"
     },
     "metadata": {}
    }
   ],
   "source": [
    "# 2\n",
    "A = [(1,  2),  (-3,  4)]\n",
    "b = [14,  18]\n",
    "M11 = 4\n",
    "detA = np.linalg.det(A)\n",
    "Zt = Integral(s, (s, t, M11))\n",
    "funtion_Zt = Zt.doit()\n",
    "Zt1 = detA * funtion_Zt.subs(t, 1)\n",
    "display(Zt, funtion_Zt, Zt1)\n",
    "\n",
    "# math.floor(Z11)"
   ]
  },
  {
   "cell_type": "code",
   "execution_count": 5,
   "metadata": {},
   "outputs": [
    {
     "output_type": "stream",
     "name": "stdout",
     "text": [
      "6.3e-02\n"
     ]
    }
   ],
   "source": [
    "# 3\n",
    "Vr = math.e\n",
    "Va = 2.72\n",
    "er = 100 * abs(Va - Vr)/Vr\n",
    "print(f\"{er:7.1e}\")\n"
   ]
  },
  {
   "cell_type": "code",
   "execution_count": 6,
   "metadata": {},
   "outputs": [
    {
     "output_type": "execute_result",
     "data": {
      "text/plain": [
       "1.4814814814814814"
      ]
     },
     "metadata": {},
     "execution_count": 6
    }
   ],
   "source": [
    "# 5\n",
    "F1 = lambda x: x**2\n",
    "_Riemman_izq(F1, 0, 2, 3)"
   ]
  },
  {
   "cell_type": "code",
   "execution_count": 7,
   "metadata": {},
   "outputs": [
    {
     "output_type": "stream",
     "name": "stdout",
     "text": [
      "-52.30732800000169\n197.6926719999983\n"
     ]
    }
   ],
   "source": [
    "# 6\n",
    "F2 = lambda x: (x**3)**2\n",
    "Va = _Riemman_der(F2, 0, 4, 5)\n",
    "print(4250 - Va)\n",
    "print(4500 - Va)"
   ]
  },
  {
   "cell_type": "code",
   "execution_count": 11,
   "metadata": {},
   "outputs": [
    {
     "output_type": "stream",
     "name": "stdout",
     "text": [
      "19.0855369231877 17.407103779456797 9.64223092477733\n"
     ]
    }
   ],
   "source": [
    "# 7\n",
    "F3 = lambda k: math.e**k\n",
    "vr = Integral(math.e**k, (k, 0, 3)).doit()\n",
    "va = _Riemman_med(F3, 0, 3, 2)\n",
    "er = 100 * abs(vr-va)/va\n",
    "print(vr, va, er)"
   ]
  },
  {
   "cell_type": "code",
   "execution_count": null,
   "metadata": {},
   "outputs": [],
   "source": []
  }
 ]
}